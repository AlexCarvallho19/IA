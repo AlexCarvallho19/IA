{
  "nbformat": 4,
  "nbformat_minor": 0,
  "metadata": {
    "colab": {
      "name": "Alex Kardell Leite de Carvalho - 03-notebook-exercicio_pratico_comparativo_wine.ipynb",
      "provenance": [],
      "collapsed_sections": [],
      "include_colab_link": true
    },
    "kernelspec": {
      "name": "python3",
      "display_name": "Python 3"
    }
  },
  "cells": [
    {
      "cell_type": "markdown",
      "metadata": {
        "id": "view-in-github",
        "colab_type": "text"
      },
      "source": [
        "<a href=\"https://colab.research.google.com/github/AlexCarvallho19/IA/blob/main/Alex_Kardell_Leite_de_Carvalho_03_notebook_exercicio_pratico_comparativo_wine.ipynb\" target=\"_parent\"><img src=\"https://colab.research.google.com/assets/colab-badge.svg\" alt=\"Open In Colab\"/></a>"
      ]
    },
    {
      "cell_type": "markdown",
      "metadata": {
        "id": "U3QHK4xpMDa3"
      },
      "source": [
        "\n",
        "# Exercício Prático - Comparativo com Vinhos\n",
        "\n",
        "Classificação de Qualidade de Vinhos do tipo 'Tinto' (Arquivo fornecido junto com notebook - 'winequality-red.csv')\n",
        "\n",
        "Utilizar as técnicas de Cross-Validation e StratifiedKFold no problema de classificação dos Vinhos"
      ]
    },
    {
      "cell_type": "markdown",
      "metadata": {
        "id": "nsN9Z_Q2JzTs"
      },
      "source": [
        "# 1 - Extração dos Atributos\n",
        "\n"
      ]
    },
    {
      "cell_type": "code",
      "metadata": {
        "id": "wo990FnoGOHP",
        "colab": {
          "base_uri": "https://localhost:8080/"
        },
        "outputId": "b92084fe-36ef-4083-cd5c-4c0c40829086"
      },
      "source": [
        "# Seus códigos para a etapa 1 deverão ser criados aqui:\n",
        "import pandas as pd\n",
        "\n",
        "import matplotlib.pyplot as plt\n",
        "\n",
        "arquivo = 'https://raw.githubusercontent.com/rafaelmm82/ufpb-ia-20201/master/02-fundamentos_de_ia/02_exercicio_pratico/winequality-red.csv'\n",
        "\n",
        "dataset = pd.read_csv(arquivo, header=0, sep=\";\")\n",
        "print(dataset.shape)\n"
      ],
      "execution_count": null,
      "outputs": [
        {
          "output_type": "stream",
          "name": "stdout",
          "text": [
            "(1599, 12)\n"
          ]
        }
      ]
    },
    {
      "cell_type": "markdown",
      "metadata": {
        "id": "eC2-SnCpLyVs"
      },
      "source": [
        "# 2 - Divisão dos Dados com Cross-Validation\n"
      ]
    },
    {
      "cell_type": "code",
      "metadata": {
        "id": "9U1C4B_FMVOi",
        "colab": {
          "base_uri": "https://localhost:8080/"
        },
        "outputId": "b365c0c5-a5ba-4d32-c1e1-3ab6abcef057"
      },
      "source": [
        "# Seus códigos para a etapa 2 deverão ser criados aqui:\n",
        "from sklearn.model_selection import train_test_split\n",
        "from sklearn.model_selection import cross_val_score\n",
        "from sklearn.model_selection import StratifiedKFold\n",
        "\n",
        "# aqui carrega os modelos\n",
        "from sklearn.linear_model import LogisticRegression\n",
        "from sklearn.tree import DecisionTreeClassifier\n",
        "from sklearn.neighbors import KNeighborsClassifier\n",
        "from sklearn.discriminant_analysis import LinearDiscriminantAnalysis\n",
        "from sklearn.naive_bayes import GaussianNB\n",
        "from sklearn.svm import SVC\n",
        "\n",
        "array = dataset.values\n",
        "X = array[:,0:11]\n",
        "y = array[:,11]\n",
        "\n",
        "# aqui estou separando treino e validação\n",
        "X_train, X_validation, Y_train, Y_validation = train_test_split(X, y, test_size=0.20, random_state=1, shuffle=True)\n",
        "\n",
        "# para criar o stratificado\n",
        "kfold = StratifiedKFold(n_splits=5, random_state=1, shuffle=True)\n",
        "\n",
        "# aqui to criando o modelo e aplicando o cross-validation\n",
        "model = LogisticRegression(solver='liblinear', multi_class='ovr')\n",
        "cv_results = cross_val_score(model, X_train, Y_train, cv=kfold, scoring='accuracy') \n",
        "print('cv_results ', cv_results)"
      ],
      "execution_count": null,
      "outputs": [
        {
          "output_type": "stream",
          "name": "stdout",
          "text": [
            "cv_results  [0.54296875 0.5703125  0.609375   0.5390625  0.58823529]\n"
          ]
        }
      ]
    },
    {
      "cell_type": "markdown",
      "metadata": {
        "id": "sgDVCmPiM3Lv"
      },
      "source": [
        "# 3 - Comparativo entre Modelos Com Cross-Validation e StratifiedKFold\n"
      ]
    },
    {
      "cell_type": "code",
      "metadata": {
        "id": "zMglNvZDNScZ",
        "colab": {
          "base_uri": "https://localhost:8080/",
          "height": 802
        },
        "outputId": "d6ab61f7-89ff-43e6-a836-999501c9e926"
      },
      "source": [
        "# Seus códigos para a etapa 3 deverão ser criados aqui: \n",
        "# isso daqui exibe os dados individualmente\n",
        "print(f'{len(cv_results)} treinamentos realizados')\n",
        "\n",
        "# vários prints por resultado\n",
        "for valor in cv_results:\n",
        "  print(f'resultado treino: {valor}\\n')\n",
        "\n",
        "#imprimir agora a média e o desvio padrão\n",
        "print(f'LR, média{cv_results.mean()} e desvio padrão {cv_results.std()}')\n",
        "\n",
        "# criando os modelos e adicionando num vetor de tuplas pra facilitar o código\n",
        "models = []\n",
        "models.append(('LR', LogisticRegression(solver='liblinear', multi_class='ovr')))\n",
        "models.append(('KNN', KNeighborsClassifier()))\n",
        "models.append(('SVM', SVC(gamma='auto')))\n",
        "models.append(('CART', DecisionTreeClassifier()))\n",
        "models.append(('LDA', LinearDiscriminantAnalysis()))\n",
        "models.append(('NB', GaussianNB()))\n",
        "\n",
        "# avaliando cada um dos modelos utilizando cross-validation com stratified\n",
        "results = []\n",
        "names = []\n",
        "\n",
        "for name, model in models:\n",
        "\tkfold = StratifiedKFold(n_splits=5, random_state=1, shuffle=True)\n",
        "\tcv_results = cross_val_score(model, X_train, Y_train, cv=kfold, scoring='accuracy')\n",
        "\tresults.append(cv_results)\n",
        "\tnames.append(name)\n",
        "\tprint('modelo %s: média %f desvio(%f)\\n' % (name, cv_results.mean(), cv_results.std()))\n",
        " \n",
        " # Compare Algoritmos\n",
        "plt.boxplot(results, labels=names)\n",
        "plt.title('Comparação dos Algoritmos')\n",
        "plt.show()\n",
        "\n",
        "# exibindo os resultados gerais\n",
        "for result in results:\n",
        "  print(result)"
      ],
      "execution_count": null,
      "outputs": [
        {
          "output_type": "stream",
          "name": "stdout",
          "text": [
            "5 treinamentos realizados\n",
            "resultado treino: 0.5078125\n",
            "\n",
            "resultado treino: 0.51953125\n",
            "\n",
            "resultado treino: 0.57421875\n",
            "\n",
            "resultado treino: 0.48828125\n",
            "\n",
            "resultado treino: 0.5490196078431373\n",
            "\n",
            "LR, média0.5277726715686274 e desvio padrão 0.030445270104691887\n",
            "modelo LR: média 0.569991 desvio(0.026724)\n",
            "\n",
            "modelo KNN: média 0.498863 desvio(0.038901)\n",
            "\n",
            "modelo SVM: média 0.561403 desvio(0.020633)\n",
            "\n",
            "modelo CART: média 0.602056 desvio(0.022721)\n",
            "\n",
            "modelo LDA: média 0.590340 desvio(0.041203)\n",
            "\n",
            "modelo NB: média 0.527773 desvio(0.030445)\n",
            "\n"
          ]
        },
        {
          "output_type": "display_data",
          "data": {
            "text/plain": [
              "<Figure size 432x288 with 1 Axes>"
            ],
            "image/png": "[encoded data removed]"
          },
          "metadata": {
            "needs_background": "light"
          }
        },
        {
          "output_type": "stream",
          "name": "stdout",
          "text": [
            "[0.54296875 0.5703125  0.609375   0.5390625  0.58823529]\n",
            "[0.49609375 0.48828125 0.53125    0.43359375 0.54509804]\n",
            "[0.5546875  0.5703125  0.55078125 0.53515625 0.59607843]\n",
            "[0.59765625 0.5625     0.61328125 0.60546875 0.63137255]\n",
            "[0.53515625 0.59765625 0.6328125  0.55078125 0.63529412]\n",
            "[0.5078125  0.51953125 0.57421875 0.48828125 0.54901961]\n"
          ]
        }
      ]
    }
  ]
}