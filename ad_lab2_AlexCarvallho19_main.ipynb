{
  "nbformat": 4,
  "nbformat_minor": 0,
  "metadata": {
    "colab": {
      "provenance": [],
      "collapsed_sections": [],
      "authorship_tag": "ABX9TyOZWOQpTN8PoAiIJ8bKvoTx",
      "include_colab_link": true
    },
    "kernelspec": {
      "name": "python3",
      "display_name": "Python 3"
    },
    "language_info": {
      "name": "python"
    }
  },
  "cells": [
    {
      "cell_type": "markdown",
      "metadata": {
        "id": "view-in-github",
        "colab_type": "text"
      },
      "source": [
        "<a href=\"https://colab.research.google.com/github/AlexCarvallho19/IA/blob/main/ad_lab2_AlexCarvallho19_main.ipynb\" target=\"_parent\"><img src=\"https://colab.research.google.com/assets/colab-badge.svg\" alt=\"Open In Colab\"/></a>"
      ]
    },
    {
      "cell_type": "markdown",
      "source": [
        "# Análise de Dados - UFPB\n",
        "\n",
        "**Professor** : Marcus Carvalho\n",
        "\n",
        "Aluno: [Alex Kardell Leite de Carvalho]\n",
        "\n",
        "## Laboratório: Análise Exploratória de Dados\n",
        "\n",
        "Você deve usar os dados de séries do IMDB (_Internet Movie DataBase_) para fazer uma análise exploratória de dados de um seriado. Os dados estão no arquivo `'dados/avaliacao_episodios_series_top.csv`. Você deve escolher uma das séries que estão no arquivo para analisar. A série deve ter no mínimo 4 temporadas para permitir uma análise mais detalhada. A análise deve ser feita neste relatório Jupyter Notebook.  O relatório já possui algumas perguntas a serem respondidas. Use as perguntas como base, mas não fique preso a elas. Você pode fazer novas perguntas e novas análises à vontade.\n",
        "\n",
        "Abaixo tem o código de exemplo para carregar os dados dos episódios e filtrar uma série específica. Modifique o código para filtra a série da sua escolha.\n"
      ],
      "metadata": {
        "id": "PEqRb8ohWKPK"
      }
    },
    {
      "cell_type": "code",
      "source": [
        "import pandas as pd\n",
        "import matplotlib.pyplot as plt\n",
        "import seaborn as sns\n",
        "\n",
        "\n",
        "# Substitua o filtro com o nome da série que você deseja analisar\n",
        "episodios = (\n",
        "    pd.read_csv('/avaliacao_episodios_series_top.csv')\n",
        "    .query(\"nome_serie == 'The Walking Dead'\")\n",
        ")\n",
        "episodios"
      ],
      "metadata": {
        "colab": {
          "base_uri": "https://localhost:8080/",
          "height": 641
        },
        "id": "xj8CxLdiWNhU",
        "outputId": "1a6fba30-14de-494f-f9c3-44aa0d3d2fdc"
      },
      "execution_count": 4,
      "outputs": [
        {
          "output_type": "execute_result",
          "data": {
            "text/plain": [
              "       id_serie        nome_serie id_episodio  temporada  num_episodio  \\\n",
              "6906  tt1520211  The Walking Dead   tt1589921        1.0           1.0   \n",
              "6907  tt1520211  The Walking Dead   tt1628064        1.0           2.0   \n",
              "6908  tt1520211  The Walking Dead   tt1628065        1.0           3.0   \n",
              "6909  tt1520211  The Walking Dead   tt1628066        1.0           4.0   \n",
              "6910  tt1520211  The Walking Dead   tt1628067        1.0           5.0   \n",
              "...         ...               ...         ...        ...           ...   \n",
              "7070  tt1520211  The Walking Dead  tt12772900       11.0          12.0   \n",
              "7071  tt1520211  The Walking Dead  tt12772904       11.0          13.0   \n",
              "7072  tt1520211  The Walking Dead  tt12772906       11.0          14.0   \n",
              "7073  tt1520211  The Walking Dead  tt12772908       11.0          15.0   \n",
              "7074  tt1520211  The Walking Dead  tt12772916       11.0          16.0   \n",
              "\n",
              "             nome_episodio   ano                generos  duracao_minutos  \\\n",
              "6906         Days Gone Bye  2010  Drama,Horror,Thriller             67.0   \n",
              "6907                  Guts  2010  Drama,Horror,Thriller             45.0   \n",
              "6908  Tell It to the Frogs  2010  Drama,Horror,Thriller             44.0   \n",
              "6909                 Vatos  2010  Drama,Horror,Thriller             45.0   \n",
              "6910              Wildfire  2010  Drama,Horror,Thriller             45.0   \n",
              "...                    ...   ...                    ...              ...   \n",
              "7070        The Lucky Ones  2022  Drama,Horror,Thriller             52.0   \n",
              "7071              Warlords  2022  Drama,Horror,Thriller             44.0   \n",
              "7072       The Rotten Core  2022  Drama,Horror,Thriller             43.0   \n",
              "7073                 Trust  2022  Drama,Horror,Thriller             46.0   \n",
              "7074           Acts of God  2022  Drama,Horror,Thriller             42.0   \n",
              "\n",
              "      avaliacao_media  num_votos  \n",
              "6906              9.2      24968  \n",
              "6907              8.6      15764  \n",
              "6908              8.2      14444  \n",
              "6909              8.5      14120  \n",
              "6910              8.1      13565  \n",
              "...               ...        ...  \n",
              "7070              7.1       3670  \n",
              "7071              8.4       4085  \n",
              "7072              8.4       3774  \n",
              "7073              7.5       3215  \n",
              "7074              7.9       3590  \n",
              "\n",
              "[169 rows x 11 columns]"
            ],
            "text/html": [
              "\n",
              "  <div id=\"df-0b3a8a36-713c-4915-8031-d2cc2597f55d\">\n",
              "    <div class=\"colab-df-container\">\n",
              "      <div>\n",
              "<style scoped>\n",
              "    .dataframe tbody tr th:only-of-type {\n",
              "        vertical-align: middle;\n",
              "    }\n",
              "\n",
              "    .dataframe tbody tr th {\n",
              "        vertical-align: top;\n",
              "    }\n",
              "\n",
              "    .dataframe thead th {\n",
              "        text-align: right;\n",
              "    }\n",
              "</style>\n",
              "<table border=\"1\" class=\"dataframe\">\n",
              "  <thead>\n",
              "    <tr style=\"text-align: right;\">\n",
              "      <th></th>\n",
              "      <th>id_serie</th>\n",
              "      <th>nome_serie</th>\n",
              "      <th>id_episodio</th>\n",
              "      <th>temporada</th>\n",
              "      <th>num_episodio</th>\n",
              "      <th>nome_episodio</th>\n",
              "      <th>ano</th>\n",
              "      <th>generos</th>\n",
              "      <th>duracao_minutos</th>\n",
              "      <th>avaliacao_media</th>\n",
              "      <th>num_votos</th>\n",
              "    </tr>\n",
              "  </thead>\n",
              "  <tbody>\n",
              "    <tr>\n",
              "      <th>6906</th>\n",
              "      <td>tt1520211</td>\n",
              "      <td>The Walking Dead</td>\n",
              "      <td>tt1589921</td>\n",
              "      <td>1.0</td>\n",
              "      <td>1.0</td>\n",
              "      <td>Days Gone Bye</td>\n",
              "      <td>2010</td>\n",
              "      <td>Drama,Horror,Thriller</td>\n",
              "      <td>67.0</td>\n",
              "      <td>9.2</td>\n",
              "      <td>24968</td>\n",
              "    </tr>\n",
              "    <tr>\n",
              "      <th>6907</th>\n",
              "      <td>tt1520211</td>\n",
              "      <td>The Walking Dead</td>\n",
              "      <td>tt1628064</td>\n",
              "      <td>1.0</td>\n",
              "      <td>2.0</td>\n",
              "      <td>Guts</td>\n",
              "      <td>2010</td>\n",
              "      <td>Drama,Horror,Thriller</td>\n",
              "      <td>45.0</td>\n",
              "      <td>8.6</td>\n",
              "      <td>15764</td>\n",
              "    </tr>\n",
              "    <tr>\n",
              "      <th>6908</th>\n",
              "      <td>tt1520211</td>\n",
              "      <td>The Walking Dead</td>\n",
              "      <td>tt1628065</td>\n",
              "      <td>1.0</td>\n",
              "      <td>3.0</td>\n",
              "      <td>Tell It to the Frogs</td>\n",
              "      <td>2010</td>\n",
              "      <td>Drama,Horror,Thriller</td>\n",
              "      <td>44.0</td>\n",
              "      <td>8.2</td>\n",
              "      <td>14444</td>\n",
              "    </tr>\n",
              "    <tr>\n",
              "      <th>6909</th>\n",
              "      <td>tt1520211</td>\n",
              "      <td>The Walking Dead</td>\n",
              "      <td>tt1628066</td>\n",
              "      <td>1.0</td>\n",
              "      <td>4.0</td>\n",
              "      <td>Vatos</td>\n",
              "      <td>2010</td>\n",
              "      <td>Drama,Horror,Thriller</td>\n",
              "      <td>45.0</td>\n",
              "      <td>8.5</td>\n",
              "      <td>14120</td>\n",
              "    </tr>\n",
              "    <tr>\n",
              "      <th>6910</th>\n",
              "      <td>tt1520211</td>\n",
              "      <td>The Walking Dead</td>\n",
              "      <td>tt1628067</td>\n",
              "      <td>1.0</td>\n",
              "      <td>5.0</td>\n",
              "      <td>Wildfire</td>\n",
              "      <td>2010</td>\n",
              "      <td>Drama,Horror,Thriller</td>\n",
              "      <td>45.0</td>\n",
              "      <td>8.1</td>\n",
              "      <td>13565</td>\n",
              "    </tr>\n",
              "    <tr>\n",
              "      <th>...</th>\n",
              "      <td>...</td>\n",
              "      <td>...</td>\n",
              "      <td>...</td>\n",
              "      <td>...</td>\n",
              "      <td>...</td>\n",
              "      <td>...</td>\n",
              "      <td>...</td>\n",
              "      <td>...</td>\n",
              "      <td>...</td>\n",
              "      <td>...</td>\n",
              "      <td>...</td>\n",
              "    </tr>\n",
              "    <tr>\n",
              "      <th>7070</th>\n",
              "      <td>tt1520211</td>\n",
              "      <td>The Walking Dead</td>\n",
              "      <td>tt12772900</td>\n",
              "      <td>11.0</td>\n",
              "      <td>12.0</td>\n",
              "      <td>The Lucky Ones</td>\n",
              "      <td>2022</td>\n",
              "      <td>Drama,Horror,Thriller</td>\n",
              "      <td>52.0</td>\n",
              "      <td>7.1</td>\n",
              "      <td>3670</td>\n",
              "    </tr>\n",
              "    <tr>\n",
              "      <th>7071</th>\n",
              "      <td>tt1520211</td>\n",
              "      <td>The Walking Dead</td>\n",
              "      <td>tt12772904</td>\n",
              "      <td>11.0</td>\n",
              "      <td>13.0</td>\n",
              "      <td>Warlords</td>\n",
              "      <td>2022</td>\n",
              "      <td>Drama,Horror,Thriller</td>\n",
              "      <td>44.0</td>\n",
              "      <td>8.4</td>\n",
              "      <td>4085</td>\n",
              "    </tr>\n",
              "    <tr>\n",
              "      <th>7072</th>\n",
              "      <td>tt1520211</td>\n",
              "      <td>The Walking Dead</td>\n",
              "      <td>tt12772906</td>\n",
              "      <td>11.0</td>\n",
              "      <td>14.0</td>\n",
              "      <td>The Rotten Core</td>\n",
              "      <td>2022</td>\n",
              "      <td>Drama,Horror,Thriller</td>\n",
              "      <td>43.0</td>\n",
              "      <td>8.4</td>\n",
              "      <td>3774</td>\n",
              "    </tr>\n",
              "    <tr>\n",
              "      <th>7073</th>\n",
              "      <td>tt1520211</td>\n",
              "      <td>The Walking Dead</td>\n",
              "      <td>tt12772908</td>\n",
              "      <td>11.0</td>\n",
              "      <td>15.0</td>\n",
              "      <td>Trust</td>\n",
              "      <td>2022</td>\n",
              "      <td>Drama,Horror,Thriller</td>\n",
              "      <td>46.0</td>\n",
              "      <td>7.5</td>\n",
              "      <td>3215</td>\n",
              "    </tr>\n",
              "    <tr>\n",
              "      <th>7074</th>\n",
              "      <td>tt1520211</td>\n",
              "      <td>The Walking Dead</td>\n",
              "      <td>tt12772916</td>\n",
              "      <td>11.0</td>\n",
              "      <td>16.0</td>\n",
              "      <td>Acts of God</td>\n",
              "      <td>2022</td>\n",
              "      <td>Drama,Horror,Thriller</td>\n",
              "      <td>42.0</td>\n",
              "      <td>7.9</td>\n",
              "      <td>3590</td>\n",
              "    </tr>\n",
              "  </tbody>\n",
              "</table>\n",
              "<p>169 rows × 11 columns</p>\n",
              "</div>\n",
              "      <button class=\"colab-df-convert\" onclick=\"convertToInteractive('df-0b3a8a36-713c-4915-8031-d2cc2597f55d')\"\n",
              "              title=\"Convert this dataframe to an interactive table.\"\n",
              "              style=\"display:none;\">\n",
              "        \n",
              "  <svg xmlns=\"http://www.w3.org/2000/svg\" height=\"24px\"viewBox=\"0 0 24 24\"\n",
              "       width=\"24px\">\n",
              "    <path d=\"M0 0h24v24H0V0z\" fill=\"none\"/>\n",
              "    <path d=\"M18.56 5.44l.94 2.06.94-2.06 2.06-.94-2.06-.94-.94-2.06-.94 2.06-2.06.94zm-11 1L8.5 8.5l.94-2.06 2.06-.94-2.06-.94L8.5 2.5l-.94 2.06-2.06.94zm10 10l.94 2.06.94-2.06 2.06-.94-2.06-.94-.94-2.06-.94 2.06-2.06.94z\"/><path d=\"M17.41 7.96l-1.37-1.37c-.4-.4-.92-.59-1.43-.59-.52 0-1.04.2-1.43.59L10.3 9.45l-7.72 7.72c-.78.78-.78 2.05 0 2.83L4 21.41c.39.39.9.59 1.41.59.51 0 1.02-.2 1.41-.59l7.78-7.78 2.81-2.81c.8-.78.8-2.07 0-2.86zM5.41 20L4 18.59l7.72-7.72 1.47 1.35L5.41 20z\"/>\n",
              "  </svg>\n",
              "      </button>\n",
              "      \n",
              "  <style>\n",
              "    .colab-df-container {\n",
              "      display:flex;\n",
              "      flex-wrap:wrap;\n",
              "      gap: 12px;\n",
              "    }\n",
              "\n",
              "    .colab-df-convert {\n",
              "      background-color: #E8F0FE;\n",
              "      border: none;\n",
              "      border-radius: 50%;\n",
              "      cursor: pointer;\n",
              "      display: none;\n",
              "      fill: #1967D2;\n",
              "      height: 32px;\n",
              "      padding: 0 0 0 0;\n",
              "      width: 32px;\n",
              "    }\n",
              "\n",
              "    .colab-df-convert:hover {\n",
              "      background-color: #E2EBFA;\n",
              "      box-shadow: 0px 1px 2px rgba(60, 64, 67, 0.3), 0px 1px 3px 1px rgba(60, 64, 67, 0.15);\n",
              "      fill: #174EA6;\n",
              "    }\n",
              "\n",
              "    [theme=dark] .colab-df-convert {\n",
              "      background-color: #3B4455;\n",
              "      fill: #D2E3FC;\n",
              "    }\n",
              "\n",
              "    [theme=dark] .colab-df-convert:hover {\n",
              "      background-color: #434B5C;\n",
              "      box-shadow: 0px 1px 3px 1px rgba(0, 0, 0, 0.15);\n",
              "      filter: drop-shadow(0px 1px 2px rgba(0, 0, 0, 0.3));\n",
              "      fill: #FFFFFF;\n",
              "    }\n",
              "  </style>\n",
              "\n",
              "      <script>\n",
              "        const buttonEl =\n",
              "          document.querySelector('#df-0b3a8a36-713c-4915-8031-d2cc2597f55d button.colab-df-convert');\n",
              "        buttonEl.style.display =\n",
              "          google.colab.kernel.accessAllowed ? 'block' : 'none';\n",
              "\n",
              "        async function convertToInteractive(key) {\n",
              "          const element = document.querySelector('#df-0b3a8a36-713c-4915-8031-d2cc2597f55d');\n",
              "          const dataTable =\n",
              "            await google.colab.kernel.invokeFunction('convertToInteractive',\n",
              "                                                     [key], {});\n",
              "          if (!dataTable) return;\n",
              "\n",
              "          const docLinkHtml = 'Like what you see? Visit the ' +\n",
              "            '<a target=\"_blank\" href=https://colab.research.google.com/notebooks/data_table.ipynb>data table notebook</a>'\n",
              "            + ' to learn more about interactive tables.';\n",
              "          element.innerHTML = '';\n",
              "          dataTable['output_type'] = 'display_data';\n",
              "          await google.colab.output.renderOutput(dataTable, element);\n",
              "          const docLink = document.createElement('div');\n",
              "          docLink.innerHTML = docLinkHtml;\n",
              "          element.appendChild(docLink);\n",
              "        }\n",
              "      </script>\n",
              "    </div>\n",
              "  </div>\n",
              "  "
            ]
          },
          "metadata": {},
          "execution_count": 4
        }
      ]
    },
    {
      "cell_type": "markdown",
      "source": [
        "## Popularidade dos episódios\n",
        "\n",
        "### Qual a distribuição de votos que cada episódio teve?\n",
        "\n",
        "Explore a popularidade de cada episódio analisando a quantidade de votos que cada um recebeu (`num_votos`). Exiba visualizações das distribuções e calcule estatísticas de centralidade e dispersão para esta variável."
      ],
      "metadata": {
        "id": "7viMc5b_Xbck"
      }
    },
    {
      "cell_type": "code",
      "source": [
        "# INSIRA SEU CÓDIGO AQUI\n",
        "\n",
        "from tracemalloc import Snapshot\n",
        "\n",
        "g = sns.FacetGrid(episodios, col=\"temporada\", col_wrap=6)\n",
        "ax = g.map_dataframe(sns.scatterplot, x=\"num_votos\", y=\"num_episodio\", alpha=1, linewidth=0)\n",
        "\n",
        "# É notório que na maioria das temporadas os episódios de cada temporada tiveram praticamente \n",
        "# a mesma média de votos, com algumas exceções, por exemplo na 4, 5, e 6 com episódios fora da tendencia."
      ],
      "metadata": {
        "colab": {
          "base_uri": "https://localhost:8080/",
          "height": 399
        },
        "id": "AIubTEzjXchr",
        "outputId": "a896d377-6d2c-4eb3-942e-83edfe9fdaff"
      },
      "execution_count": 11,
      "outputs": [
        {
          "output_type": "display_data",
          "data": {
            "text/plain": [
              "<Figure size 1296x432 with 11 Axes>"
            ],
            "image/png": "[encoded data removed]"
          },
          "metadata": {
            "needs_background": "light"
          }
        }
      ]
    },
    {
      "cell_type": "code",
      "source": [
        "print(f\"Média: {episodios['num_votos'].mean()} / Mediana: {episodios['num_votos'].median()} / Moda: {(episodios['num_votos'].mode())}\")"
      ],
      "metadata": {
        "colab": {
          "base_uri": "https://localhost:8080/"
        },
        "id": "MKFJKKgGYE6E",
        "outputId": "073a6de3-2579-4360-b5cb-eb034095ca42"
      },
      "execution_count": 6,
      "outputs": [
        {
          "output_type": "stream",
          "name": "stdout",
          "text": [
            "Média: 10577.538461538461 / Mediana: 10449.0 / Moda: 0       3215\n",
            "1       3590\n",
            "2       3670\n",
            "3       3774\n",
            "4       4085\n",
            "       ...  \n",
            "164    26436\n",
            "165    27128\n",
            "166    28572\n",
            "167    30563\n",
            "168    40271\n",
            "Length: 169, dtype: int64\n"
          ]
        }
      ]
    },
    {
      "cell_type": "markdown",
      "source": [
        "### Qual o episódio mais popular (com mais votos)?"
      ],
      "metadata": {
        "id": "1D3gKV-mas5d"
      }
    },
    {
      "cell_type": "code",
      "source": [
        "# INSIRA SEU CÓDIGO AQUI\n",
        "episodios.loc[episodios['num_votos'] == episodios['num_votos'].max()]"
      ],
      "metadata": {
        "colab": {
          "base_uri": "https://localhost:8080/",
          "height": 159
        },
        "id": "j6gCDq8Yatv9",
        "outputId": "78b706da-5ce2-4392-ec67-3a8903653d62"
      },
      "execution_count": 7,
      "outputs": [
        {
          "output_type": "execute_result",
          "data": {
            "text/plain": [
              "       id_serie        nome_serie id_episodio  temporada  num_episodio  \\\n",
              "6989  tt1520211  The Walking Dead   tt5164772        7.0           1.0   \n",
              "\n",
              "                            nome_episodio   ano                generos  \\\n",
              "6989  The Day Will Come When You Won't Be  2016  Drama,Horror,Thriller   \n",
              "\n",
              "      duracao_minutos  avaliacao_media  num_votos  \n",
              "6989             46.0              9.2      40271  "
            ],
            "text/html": [
              "\n",
              "  <div id=\"df-45736f8b-2778-4e5b-9489-08ade83111d2\">\n",
              "    <div class=\"colab-df-container\">\n",
              "      <div>\n",
              "<style scoped>\n",
              "    .dataframe tbody tr th:only-of-type {\n",
              "        vertical-align: middle;\n",
              "    }\n",
              "\n",
              "    .dataframe tbody tr th {\n",
              "        vertical-align: top;\n",
              "    }\n",
              "\n",
              "    .dataframe thead th {\n",
              "        text-align: right;\n",
              "    }\n",
              "</style>\n",
              "<table border=\"1\" class=\"dataframe\">\n",
              "  <thead>\n",
              "    <tr style=\"text-align: right;\">\n",
              "      <th></th>\n",
              "      <th>id_serie</th>\n",
              "      <th>nome_serie</th>\n",
              "      <th>id_episodio</th>\n",
              "      <th>temporada</th>\n",
              "      <th>num_episodio</th>\n",
              "      <th>nome_episodio</th>\n",
              "      <th>ano</th>\n",
              "      <th>generos</th>\n",
              "      <th>duracao_minutos</th>\n",
              "      <th>avaliacao_media</th>\n",
              "      <th>num_votos</th>\n",
              "    </tr>\n",
              "  </thead>\n",
              "  <tbody>\n",
              "    <tr>\n",
              "      <th>6989</th>\n",
              "      <td>tt1520211</td>\n",
              "      <td>The Walking Dead</td>\n",
              "      <td>tt5164772</td>\n",
              "      <td>7.0</td>\n",
              "      <td>1.0</td>\n",
              "      <td>The Day Will Come When You Won't Be</td>\n",
              "      <td>2016</td>\n",
              "      <td>Drama,Horror,Thriller</td>\n",
              "      <td>46.0</td>\n",
              "      <td>9.2</td>\n",
              "      <td>40271</td>\n",
              "    </tr>\n",
              "  </tbody>\n",
              "</table>\n",
              "</div>\n",
              "      <button class=\"colab-df-convert\" onclick=\"convertToInteractive('df-45736f8b-2778-4e5b-9489-08ade83111d2')\"\n",
              "              title=\"Convert this dataframe to an interactive table.\"\n",
              "              style=\"display:none;\">\n",
              "        \n",
              "  <svg xmlns=\"http://www.w3.org/2000/svg\" height=\"24px\"viewBox=\"0 0 24 24\"\n",
              "       width=\"24px\">\n",
              "    <path d=\"M0 0h24v24H0V0z\" fill=\"none\"/>\n",
              "    <path d=\"M18.56 5.44l.94 2.06.94-2.06 2.06-.94-2.06-.94-.94-2.06-.94 2.06-2.06.94zm-11 1L8.5 8.5l.94-2.06 2.06-.94-2.06-.94L8.5 2.5l-.94 2.06-2.06.94zm10 10l.94 2.06.94-2.06 2.06-.94-2.06-.94-.94-2.06-.94 2.06-2.06.94z\"/><path d=\"M17.41 7.96l-1.37-1.37c-.4-.4-.92-.59-1.43-.59-.52 0-1.04.2-1.43.59L10.3 9.45l-7.72 7.72c-.78.78-.78 2.05 0 2.83L4 21.41c.39.39.9.59 1.41.59.51 0 1.02-.2 1.41-.59l7.78-7.78 2.81-2.81c.8-.78.8-2.07 0-2.86zM5.41 20L4 18.59l7.72-7.72 1.47 1.35L5.41 20z\"/>\n",
              "  </svg>\n",
              "      </button>\n",
              "      \n",
              "  <style>\n",
              "    .colab-df-container {\n",
              "      display:flex;\n",
              "      flex-wrap:wrap;\n",
              "      gap: 12px;\n",
              "    }\n",
              "\n",
              "    .colab-df-convert {\n",
              "      background-color: #E8F0FE;\n",
              "      border: none;\n",
              "      border-radius: 50%;\n",
              "      cursor: pointer;\n",
              "      display: none;\n",
              "      fill: #1967D2;\n",
              "      height: 32px;\n",
              "      padding: 0 0 0 0;\n",
              "      width: 32px;\n",
              "    }\n",
              "\n",
              "    .colab-df-convert:hover {\n",
              "      background-color: #E2EBFA;\n",
              "      box-shadow: 0px 1px 2px rgba(60, 64, 67, 0.3), 0px 1px 3px 1px rgba(60, 64, 67, 0.15);\n",
              "      fill: #174EA6;\n",
              "    }\n",
              "\n",
              "    [theme=dark] .colab-df-convert {\n",
              "      background-color: #3B4455;\n",
              "      fill: #D2E3FC;\n",
              "    }\n",
              "\n",
              "    [theme=dark] .colab-df-convert:hover {\n",
              "      background-color: #434B5C;\n",
              "      box-shadow: 0px 1px 3px 1px rgba(0, 0, 0, 0.15);\n",
              "      filter: drop-shadow(0px 1px 2px rgba(0, 0, 0, 0.3));\n",
              "      fill: #FFFFFF;\n",
              "    }\n",
              "  </style>\n",
              "\n",
              "      <script>\n",
              "        const buttonEl =\n",
              "          document.querySelector('#df-45736f8b-2778-4e5b-9489-08ade83111d2 button.colab-df-convert');\n",
              "        buttonEl.style.display =\n",
              "          google.colab.kernel.accessAllowed ? 'block' : 'none';\n",
              "\n",
              "        async function convertToInteractive(key) {\n",
              "          const element = document.querySelector('#df-45736f8b-2778-4e5b-9489-08ade83111d2');\n",
              "          const dataTable =\n",
              "            await google.colab.kernel.invokeFunction('convertToInteractive',\n",
              "                                                     [key], {});\n",
              "          if (!dataTable) return;\n",
              "\n",
              "          const docLinkHtml = 'Like what you see? Visit the ' +\n",
              "            '<a target=\"_blank\" href=https://colab.research.google.com/notebooks/data_table.ipynb>data table notebook</a>'\n",
              "            + ' to learn more about interactive tables.';\n",
              "          element.innerHTML = '';\n",
              "          dataTable['output_type'] = 'display_data';\n",
              "          await google.colab.output.renderOutput(dataTable, element);\n",
              "          const docLink = document.createElement('div');\n",
              "          docLink.innerHTML = docLinkHtml;\n",
              "          element.appendChild(docLink);\n",
              "        }\n",
              "      </script>\n",
              "    </div>\n",
              "  </div>\n",
              "  "
            ]
          },
          "metadata": {},
          "execution_count": 7
        }
      ]
    },
    {
      "cell_type": "markdown",
      "source": [
        "### Qual o episódio menos popular (com menos votos)?"
      ],
      "metadata": {
        "id": "2FyhXTDvbFn2"
      }
    },
    {
      "cell_type": "code",
      "source": [
        "# INSIRA SEU CÓDIGO AQUI\n",
        "episodios.loc[episodios['num_votos'] == episodios['num_votos'].min()]"
      ],
      "metadata": {
        "colab": {
          "base_uri": "https://localhost:8080/",
          "height": 142
        },
        "id": "fO3E3BTWbGNc",
        "outputId": "76f6df2a-14cd-484c-a319-9e68c46be591"
      },
      "execution_count": 8,
      "outputs": [
        {
          "output_type": "execute_result",
          "data": {
            "text/plain": [
              "       id_serie        nome_serie id_episodio  temporada  num_episodio  \\\n",
              "7073  tt1520211  The Walking Dead  tt12772908       11.0          15.0   \n",
              "\n",
              "     nome_episodio   ano                generos  duracao_minutos  \\\n",
              "7073         Trust  2022  Drama,Horror,Thriller             46.0   \n",
              "\n",
              "      avaliacao_media  num_votos  \n",
              "7073              7.5       3215  "
            ],
            "text/html": [
              "\n",
              "  <div id=\"df-b6eeb14a-a29b-4486-b3a3-ad9b4cf4f5df\">\n",
              "    <div class=\"colab-df-container\">\n",
              "      <div>\n",
              "<style scoped>\n",
              "    .dataframe tbody tr th:only-of-type {\n",
              "        vertical-align: middle;\n",
              "    }\n",
              "\n",
              "    .dataframe tbody tr th {\n",
              "        vertical-align: top;\n",
              "    }\n",
              "\n",
              "    .dataframe thead th {\n",
              "        text-align: right;\n",
              "    }\n",
              "</style>\n",
              "<table border=\"1\" class=\"dataframe\">\n",
              "  <thead>\n",
              "    <tr style=\"text-align: right;\">\n",
              "      <th></th>\n",
              "      <th>id_serie</th>\n",
              "      <th>nome_serie</th>\n",
              "      <th>id_episodio</th>\n",
              "      <th>temporada</th>\n",
              "      <th>num_episodio</th>\n",
              "      <th>nome_episodio</th>\n",
              "      <th>ano</th>\n",
              "      <th>generos</th>\n",
              "      <th>duracao_minutos</th>\n",
              "      <th>avaliacao_media</th>\n",
              "      <th>num_votos</th>\n",
              "    </tr>\n",
              "  </thead>\n",
              "  <tbody>\n",
              "    <tr>\n",
              "      <th>7073</th>\n",
              "      <td>tt1520211</td>\n",
              "      <td>The Walking Dead</td>\n",
              "      <td>tt12772908</td>\n",
              "      <td>11.0</td>\n",
              "      <td>15.0</td>\n",
              "      <td>Trust</td>\n",
              "      <td>2022</td>\n",
              "      <td>Drama,Horror,Thriller</td>\n",
              "      <td>46.0</td>\n",
              "      <td>7.5</td>\n",
              "      <td>3215</td>\n",
              "    </tr>\n",
              "  </tbody>\n",
              "</table>\n",
              "</div>\n",
              "      <button class=\"colab-df-convert\" onclick=\"convertToInteractive('df-b6eeb14a-a29b-4486-b3a3-ad9b4cf4f5df')\"\n",
              "              title=\"Convert this dataframe to an interactive table.\"\n",
              "              style=\"display:none;\">\n",
              "        \n",
              "  <svg xmlns=\"http://www.w3.org/2000/svg\" height=\"24px\"viewBox=\"0 0 24 24\"\n",
              "       width=\"24px\">\n",
              "    <path d=\"M0 0h24v24H0V0z\" fill=\"none\"/>\n",
              "    <path d=\"M18.56 5.44l.94 2.06.94-2.06 2.06-.94-2.06-.94-.94-2.06-.94 2.06-2.06.94zm-11 1L8.5 8.5l.94-2.06 2.06-.94-2.06-.94L8.5 2.5l-.94 2.06-2.06.94zm10 10l.94 2.06.94-2.06 2.06-.94-2.06-.94-.94-2.06-.94 2.06-2.06.94z\"/><path d=\"M17.41 7.96l-1.37-1.37c-.4-.4-.92-.59-1.43-.59-.52 0-1.04.2-1.43.59L10.3 9.45l-7.72 7.72c-.78.78-.78 2.05 0 2.83L4 21.41c.39.39.9.59 1.41.59.51 0 1.02-.2 1.41-.59l7.78-7.78 2.81-2.81c.8-.78.8-2.07 0-2.86zM5.41 20L4 18.59l7.72-7.72 1.47 1.35L5.41 20z\"/>\n",
              "  </svg>\n",
              "      </button>\n",
              "      \n",
              "  <style>\n",
              "    .colab-df-container {\n",
              "      display:flex;\n",
              "      flex-wrap:wrap;\n",
              "      gap: 12px;\n",
              "    }\n",
              "\n",
              "    .colab-df-convert {\n",
              "      background-color: #E8F0FE;\n",
              "      border: none;\n",
              "      border-radius: 50%;\n",
              "      cursor: pointer;\n",
              "      display: none;\n",
              "      fill: #1967D2;\n",
              "      height: 32px;\n",
              "      padding: 0 0 0 0;\n",
              "      width: 32px;\n",
              "    }\n",
              "\n",
              "    .colab-df-convert:hover {\n",
              "      background-color: #E2EBFA;\n",
              "      box-shadow: 0px 1px 2px rgba(60, 64, 67, 0.3), 0px 1px 3px 1px rgba(60, 64, 67, 0.15);\n",
              "      fill: #174EA6;\n",
              "    }\n",
              "\n",
              "    [theme=dark] .colab-df-convert {\n",
              "      background-color: #3B4455;\n",
              "      fill: #D2E3FC;\n",
              "    }\n",
              "\n",
              "    [theme=dark] .colab-df-convert:hover {\n",
              "      background-color: #434B5C;\n",
              "      box-shadow: 0px 1px 3px 1px rgba(0, 0, 0, 0.15);\n",
              "      filter: drop-shadow(0px 1px 2px rgba(0, 0, 0, 0.3));\n",
              "      fill: #FFFFFF;\n",
              "    }\n",
              "  </style>\n",
              "\n",
              "      <script>\n",
              "        const buttonEl =\n",
              "          document.querySelector('#df-b6eeb14a-a29b-4486-b3a3-ad9b4cf4f5df button.colab-df-convert');\n",
              "        buttonEl.style.display =\n",
              "          google.colab.kernel.accessAllowed ? 'block' : 'none';\n",
              "\n",
              "        async function convertToInteractive(key) {\n",
              "          const element = document.querySelector('#df-b6eeb14a-a29b-4486-b3a3-ad9b4cf4f5df');\n",
              "          const dataTable =\n",
              "            await google.colab.kernel.invokeFunction('convertToInteractive',\n",
              "                                                     [key], {});\n",
              "          if (!dataTable) return;\n",
              "\n",
              "          const docLinkHtml = 'Like what you see? Visit the ' +\n",
              "            '<a target=\"_blank\" href=https://colab.research.google.com/notebooks/data_table.ipynb>data table notebook</a>'\n",
              "            + ' to learn more about interactive tables.';\n",
              "          element.innerHTML = '';\n",
              "          dataTable['output_type'] = 'display_data';\n",
              "          await google.colab.output.renderOutput(dataTable, element);\n",
              "          const docLink = document.createElement('div');\n",
              "          docLink.innerHTML = docLinkHtml;\n",
              "          element.appendChild(docLink);\n",
              "        }\n",
              "      </script>\n",
              "    </div>\n",
              "  </div>\n",
              "  "
            ]
          },
          "metadata": {},
          "execution_count": 8
        }
      ]
    },
    {
      "cell_type": "markdown",
      "source": [
        "### Qual a temporada mais popular?"
      ],
      "metadata": {
        "id": "fNDhgvMzcWDk"
      }
    },
    {
      "cell_type": "code",
      "source": [
        "# INSIRA SEU CÓDIGO AQUI\n",
        "\n",
        "popular = episodios.groupby([\"temporada\"]).sum(\"num_votos\").reset_index()\n",
        "popular.loc[popular['num_votos'] == popular['num_votos'].max()]\n"
      ],
      "metadata": {
        "colab": {
          "base_uri": "https://localhost:8080/",
          "height": 81
        },
        "id": "glzr1dtgcWtt",
        "outputId": "7373751f-0888-4b08-903b-9e054aa5dec2"
      },
      "execution_count": 9,
      "outputs": [
        {
          "output_type": "execute_result",
          "data": {
            "text/plain": [
              "   temporada  num_episodio    ano  duracao_minutos  avaliacao_media  num_votos\n",
              "5        6.0         136.0  32248            752.0            132.3     225244"
            ],
            "text/html": [
              "\n",
              "  <div id=\"df-f0e5a46f-aad6-4881-b5b6-737e4fbb4253\">\n",
              "    <div class=\"colab-df-container\">\n",
              "      <div>\n",
              "<style scoped>\n",
              "    .dataframe tbody tr th:only-of-type {\n",
              "        vertical-align: middle;\n",
              "    }\n",
              "\n",
              "    .dataframe tbody tr th {\n",
              "        vertical-align: top;\n",
              "    }\n",
              "\n",
              "    .dataframe thead th {\n",
              "        text-align: right;\n",
              "    }\n",
              "</style>\n",
              "<table border=\"1\" class=\"dataframe\">\n",
              "  <thead>\n",
              "    <tr style=\"text-align: right;\">\n",
              "      <th></th>\n",
              "      <th>temporada</th>\n",
              "      <th>num_episodio</th>\n",
              "      <th>ano</th>\n",
              "      <th>duracao_minutos</th>\n",
              "      <th>avaliacao_media</th>\n",
              "      <th>num_votos</th>\n",
              "    </tr>\n",
              "  </thead>\n",
              "  <tbody>\n",
              "    <tr>\n",
              "      <th>5</th>\n",
              "      <td>6.0</td>\n",
              "      <td>136.0</td>\n",
              "      <td>32248</td>\n",
              "      <td>752.0</td>\n",
              "      <td>132.3</td>\n",
              "      <td>225244</td>\n",
              "    </tr>\n",
              "  </tbody>\n",
              "</table>\n",
              "</div>\n",
              "      <button class=\"colab-df-convert\" onclick=\"convertToInteractive('df-f0e5a46f-aad6-4881-b5b6-737e4fbb4253')\"\n",
              "              title=\"Convert this dataframe to an interactive table.\"\n",
              "              style=\"display:none;\">\n",
              "        \n",
              "  <svg xmlns=\"http://www.w3.org/2000/svg\" height=\"24px\"viewBox=\"0 0 24 24\"\n",
              "       width=\"24px\">\n",
              "    <path d=\"M0 0h24v24H0V0z\" fill=\"none\"/>\n",
              "    <path d=\"M18.56 5.44l.94 2.06.94-2.06 2.06-.94-2.06-.94-.94-2.06-.94 2.06-2.06.94zm-11 1L8.5 8.5l.94-2.06 2.06-.94-2.06-.94L8.5 2.5l-.94 2.06-2.06.94zm10 10l.94 2.06.94-2.06 2.06-.94-2.06-.94-.94-2.06-.94 2.06-2.06.94z\"/><path d=\"M17.41 7.96l-1.37-1.37c-.4-.4-.92-.59-1.43-.59-.52 0-1.04.2-1.43.59L10.3 9.45l-7.72 7.72c-.78.78-.78 2.05 0 2.83L4 21.41c.39.39.9.59 1.41.59.51 0 1.02-.2 1.41-.59l7.78-7.78 2.81-2.81c.8-.78.8-2.07 0-2.86zM5.41 20L4 18.59l7.72-7.72 1.47 1.35L5.41 20z\"/>\n",
              "  </svg>\n",
              "      </button>\n",
              "      \n",
              "  <style>\n",
              "    .colab-df-container {\n",
              "      display:flex;\n",
              "      flex-wrap:wrap;\n",
              "      gap: 12px;\n",
              "    }\n",
              "\n",
              "    .colab-df-convert {\n",
              "      background-color: #E8F0FE;\n",
              "      border: none;\n",
              "      border-radius: 50%;\n",
              "      cursor: pointer;\n",
              "      display: none;\n",
              "      fill: #1967D2;\n",
              "      height: 32px;\n",
              "      padding: 0 0 0 0;\n",
              "      width: 32px;\n",
              "    }\n",
              "\n",
              "    .colab-df-convert:hover {\n",
              "      background-color: #E2EBFA;\n",
              "      box-shadow: 0px 1px 2px rgba(60, 64, 67, 0.3), 0px 1px 3px 1px rgba(60, 64, 67, 0.15);\n",
              "      fill: #174EA6;\n",
              "    }\n",
              "\n",
              "    [theme=dark] .colab-df-convert {\n",
              "      background-color: #3B4455;\n",
              "      fill: #D2E3FC;\n",
              "    }\n",
              "\n",
              "    [theme=dark] .colab-df-convert:hover {\n",
              "      background-color: #434B5C;\n",
              "      box-shadow: 0px 1px 3px 1px rgba(0, 0, 0, 0.15);\n",
              "      filter: drop-shadow(0px 1px 2px rgba(0, 0, 0, 0.3));\n",
              "      fill: #FFFFFF;\n",
              "    }\n",
              "  </style>\n",
              "\n",
              "      <script>\n",
              "        const buttonEl =\n",
              "          document.querySelector('#df-f0e5a46f-aad6-4881-b5b6-737e4fbb4253 button.colab-df-convert');\n",
              "        buttonEl.style.display =\n",
              "          google.colab.kernel.accessAllowed ? 'block' : 'none';\n",
              "\n",
              "        async function convertToInteractive(key) {\n",
              "          const element = document.querySelector('#df-f0e5a46f-aad6-4881-b5b6-737e4fbb4253');\n",
              "          const dataTable =\n",
              "            await google.colab.kernel.invokeFunction('convertToInteractive',\n",
              "                                                     [key], {});\n",
              "          if (!dataTable) return;\n",
              "\n",
              "          const docLinkHtml = 'Like what you see? Visit the ' +\n",
              "            '<a target=\"_blank\" href=https://colab.research.google.com/notebooks/data_table.ipynb>data table notebook</a>'\n",
              "            + ' to learn more about interactive tables.';\n",
              "          element.innerHTML = '';\n",
              "          dataTable['output_type'] = 'display_data';\n",
              "          await google.colab.output.renderOutput(dataTable, element);\n",
              "          const docLink = document.createElement('div');\n",
              "          docLink.innerHTML = docLinkHtml;\n",
              "          element.appendChild(docLink);\n",
              "        }\n",
              "      </script>\n",
              "    </div>\n",
              "  </div>\n",
              "  "
            ]
          },
          "metadata": {},
          "execution_count": 9
        }
      ]
    },
    {
      "cell_type": "markdown",
      "source": [
        "### Qual a temporada menos popular?"
      ],
      "metadata": {
        "id": "CdJiqjJ5egm-"
      }
    },
    {
      "cell_type": "markdown",
      "source": [],
      "metadata": {
        "id": "DTYTtn2eeLqN"
      }
    },
    {
      "cell_type": "code",
      "source": [
        "# INSIRA SEU CÓDIGO AQUI\n",
        "popular.loc[popular['num_votos'] == popular['num_votos'].min()]"
      ],
      "metadata": {
        "colab": {
          "base_uri": "https://localhost:8080/",
          "height": 81
        },
        "id": "Oti9oB-_eQak",
        "outputId": "84c8b8cd-9dfd-44d2-9142-d74c67355107"
      },
      "execution_count": 10,
      "outputs": [
        {
          "output_type": "execute_result",
          "data": {
            "text/plain": [
              "    temporada  num_episodio    ano  duracao_minutos  avaliacao_media  \\\n",
              "10       11.0         136.0  32344            731.0            126.6   \n",
              "\n",
              "    num_votos  \n",
              "10      80512  "
            ],
            "text/html": [
              "\n",
              "  <div id=\"df-8c95af7b-0d97-4c82-856b-57a8ca2cae4d\">\n",
              "    <div class=\"colab-df-container\">\n",
              "      <div>\n",
              "<style scoped>\n",
              "    .dataframe tbody tr th:only-of-type {\n",
              "        vertical-align: middle;\n",
              "    }\n",
              "\n",
              "    .dataframe tbody tr th {\n",
              "        vertical-align: top;\n",
              "    }\n",
              "\n",
              "    .dataframe thead th {\n",
              "        text-align: right;\n",
              "    }\n",
              "</style>\n",
              "<table border=\"1\" class=\"dataframe\">\n",
              "  <thead>\n",
              "    <tr style=\"text-align: right;\">\n",
              "      <th></th>\n",
              "      <th>temporada</th>\n",
              "      <th>num_episodio</th>\n",
              "      <th>ano</th>\n",
              "      <th>duracao_minutos</th>\n",
              "      <th>avaliacao_media</th>\n",
              "      <th>num_votos</th>\n",
              "    </tr>\n",
              "  </thead>\n",
              "  <tbody>\n",
              "    <tr>\n",
              "      <th>10</th>\n",
              "      <td>11.0</td>\n",
              "      <td>136.0</td>\n",
              "      <td>32344</td>\n",
              "      <td>731.0</td>\n",
              "      <td>126.6</td>\n",
              "      <td>80512</td>\n",
              "    </tr>\n",
              "  </tbody>\n",
              "</table>\n",
              "</div>\n",
              "      <button class=\"colab-df-convert\" onclick=\"convertToInteractive('df-8c95af7b-0d97-4c82-856b-57a8ca2cae4d')\"\n",
              "              title=\"Convert this dataframe to an interactive table.\"\n",
              "              style=\"display:none;\">\n",
              "        \n",
              "  <svg xmlns=\"http://www.w3.org/2000/svg\" height=\"24px\"viewBox=\"0 0 24 24\"\n",
              "       width=\"24px\">\n",
              "    <path d=\"M0 0h24v24H0V0z\" fill=\"none\"/>\n",
              "    <path d=\"M18.56 5.44l.94 2.06.94-2.06 2.06-.94-2.06-.94-.94-2.06-.94 2.06-2.06.94zm-11 1L8.5 8.5l.94-2.06 2.06-.94-2.06-.94L8.5 2.5l-.94 2.06-2.06.94zm10 10l.94 2.06.94-2.06 2.06-.94-2.06-.94-.94-2.06-.94 2.06-2.06.94z\"/><path d=\"M17.41 7.96l-1.37-1.37c-.4-.4-.92-.59-1.43-.59-.52 0-1.04.2-1.43.59L10.3 9.45l-7.72 7.72c-.78.78-.78 2.05 0 2.83L4 21.41c.39.39.9.59 1.41.59.51 0 1.02-.2 1.41-.59l7.78-7.78 2.81-2.81c.8-.78.8-2.07 0-2.86zM5.41 20L4 18.59l7.72-7.72 1.47 1.35L5.41 20z\"/>\n",
              "  </svg>\n",
              "      </button>\n",
              "      \n",
              "  <style>\n",
              "    .colab-df-container {\n",
              "      display:flex;\n",
              "      flex-wrap:wrap;\n",
              "      gap: 12px;\n",
              "    }\n",
              "\n",
              "    .colab-df-convert {\n",
              "      background-color: #E8F0FE;\n",
              "      border: none;\n",
              "      border-radius: 50%;\n",
              "      cursor: pointer;\n",
              "      display: none;\n",
              "      fill: #1967D2;\n",
              "      height: 32px;\n",
              "      padding: 0 0 0 0;\n",
              "      width: 32px;\n",
              "    }\n",
              "\n",
              "    .colab-df-convert:hover {\n",
              "      background-color: #E2EBFA;\n",
              "      box-shadow: 0px 1px 2px rgba(60, 64, 67, 0.3), 0px 1px 3px 1px rgba(60, 64, 67, 0.15);\n",
              "      fill: #174EA6;\n",
              "    }\n",
              "\n",
              "    [theme=dark] .colab-df-convert {\n",
              "      background-color: #3B4455;\n",
              "      fill: #D2E3FC;\n",
              "    }\n",
              "\n",
              "    [theme=dark] .colab-df-convert:hover {\n",
              "      background-color: #434B5C;\n",
              "      box-shadow: 0px 1px 3px 1px rgba(0, 0, 0, 0.15);\n",
              "      filter: drop-shadow(0px 1px 2px rgba(0, 0, 0, 0.3));\n",
              "      fill: #FFFFFF;\n",
              "    }\n",
              "  </style>\n",
              "\n",
              "      <script>\n",
              "        const buttonEl =\n",
              "          document.querySelector('#df-8c95af7b-0d97-4c82-856b-57a8ca2cae4d button.colab-df-convert');\n",
              "        buttonEl.style.display =\n",
              "          google.colab.kernel.accessAllowed ? 'block' : 'none';\n",
              "\n",
              "        async function convertToInteractive(key) {\n",
              "          const element = document.querySelector('#df-8c95af7b-0d97-4c82-856b-57a8ca2cae4d');\n",
              "          const dataTable =\n",
              "            await google.colab.kernel.invokeFunction('convertToInteractive',\n",
              "                                                     [key], {});\n",
              "          if (!dataTable) return;\n",
              "\n",
              "          const docLinkHtml = 'Like what you see? Visit the ' +\n",
              "            '<a target=\"_blank\" href=https://colab.research.google.com/notebooks/data_table.ipynb>data table notebook</a>'\n",
              "            + ' to learn more about interactive tables.';\n",
              "          element.innerHTML = '';\n",
              "          dataTable['output_type'] = 'display_data';\n",
              "          await google.colab.output.renderOutput(dataTable, element);\n",
              "          const docLink = document.createElement('div');\n",
              "          docLink.innerHTML = docLinkHtml;\n",
              "          element.appendChild(docLink);\n",
              "        }\n",
              "      </script>\n",
              "    </div>\n",
              "  </div>\n",
              "  "
            ]
          },
          "metadata": {},
          "execution_count": 10
        }
      ]
    },
    {
      "cell_type": "markdown",
      "source": [
        "## Qualidade dos episódios\n",
        "\n",
        "### Qual a distribuição de avaliações que cada episódio teve?\n",
        "\n",
        "Explore a qualidade de cada episódio analisando a avaliação média que cada um recebeu (`avaliacao_media`). Exiba visualizações das distribuções e calcule estatísticas de centralidade e dispersão para esta variável.\n"
      ],
      "metadata": {
        "id": "Wsw_xwvpfEa8"
      }
    },
    {
      "cell_type": "code",
      "source": [
        "# INSIRA SEU CÓDIGO AQUI\n",
        "\n",
        "#Medidas de centralidade e dispersão, respectivamente.\n",
        "print(f\"Média: {episodios['avaliacao_media'].mean()} / Mediana: {episodios['avaliacao_media'].median()} / Moda: {episodios['avaliacao_media'].median()}\")\n",
        "\n",
        "print(f\"Desvio padrão: {episodios['avaliacao_media'].std()} / Variância: {episodios['avaliacao_media'].var()} / Desvio absoluto: {episodios['avaliacao_media'].mad()}\")\n",
        "\n",
        "\n",
        "g = sns.FacetGrid(episodios, col=\"temporada\", col_wrap=7)\n",
        "ax = g.map_dataframe(sns.scatterplot, x=\"avaliacao_media\", y=\"num_episodio\", alpha=1, linewidth=0)\n",
        "\n",
        "# analisando o gráfico que avalia a qualidade dos episódios de 0 a 10, há uma boa avaliação >=6.\n",
        "# exceto na temporada 10 em que há episódios a baixo dessa margem.\n",
        "##----------------------------##--------------------------------------------\n",
        "# Já nalisando as medidas de dispersão, há muita variância de dados em diversas temporadas.\n",
        "# Com exceção da 1° em que há pouco dado para se analisar e ter uma certeza.\n",
        "\n"
      ],
      "metadata": {
        "id": "8obFJhbhfFPA",
        "colab": {
          "base_uri": "https://localhost:8080/",
          "height": 378
        },
        "outputId": "d3a38f80-1e64-4885-ed46-3a1293801f67"
      },
      "execution_count": 14,
      "outputs": [
        {
          "output_type": "stream",
          "name": "stdout",
          "text": [
            "Média: 7.92603550295858 / Mediana: 7.9 / Moda: 7.9\n",
            "Desvio padrão: 0.8357540214957525 / Variância: 0.6984847844463228 / Desvio absoluto: 0.6229473757921641\n"
          ]
        },
        {
          "output_type": "display_data",
          "data": {
            "text/plain": [
              "<Figure size 1512x432 with 11 Axes>"
            ],
            "image/png": "[encoded data removed]"
          },
          "metadata": {
            "needs_background": "light"
          }
        }
      ]
    },
    {
      "cell_type": "markdown",
      "source": [
        "### Qual o melhor episódio da série de acordo com as avaliações do IMDB?"
      ],
      "metadata": {
        "id": "TshHFHsURlgo"
      }
    },
    {
      "cell_type": "code",
      "source": [
        "episodios.loc[episodios['avaliacao_media'] == episodios['avaliacao_media'].max()]"
      ],
      "metadata": {
        "colab": {
          "base_uri": "https://localhost:8080/",
          "height": 240
        },
        "id": "xqwPDy0gRmzj",
        "outputId": "0d43ae81-b5e2-41a0-d748-393d71536aec"
      },
      "execution_count": 15,
      "outputs": [
        {
          "output_type": "execute_result",
          "data": {
            "text/plain": [
              "       id_serie        nome_serie id_episodio  temporada  num_episodio  \\\n",
              "6948  tt1520211  The Walking Dead   tt2948638        4.0           8.0   \n",
              "6957  tt1520211  The Walking Dead   tt3297776        5.0           1.0   \n",
              "6981  tt1520211  The Walking Dead   tt4575388        6.0           9.0   \n",
              "\n",
              "     nome_episodio   ano                generos  duracao_minutos  \\\n",
              "6948  Too Far Gone  2013  Drama,Horror,Thriller             43.0   \n",
              "6957  No Sanctuary  2014  Drama,Horror,Thriller             42.0   \n",
              "6981    No Way Out  2016  Drama,Horror,Thriller             43.0   \n",
              "\n",
              "      avaliacao_media  num_votos  \n",
              "6948              9.6      26436  \n",
              "6957              9.6      27128  \n",
              "6981              9.6      28572  "
            ],
            "text/html": [
              "\n",
              "  <div id=\"df-d194fc37-ee33-471c-92b0-70940ecbc33e\">\n",
              "    <div class=\"colab-df-container\">\n",
              "      <div>\n",
              "<style scoped>\n",
              "    .dataframe tbody tr th:only-of-type {\n",
              "        vertical-align: middle;\n",
              "    }\n",
              "\n",
              "    .dataframe tbody tr th {\n",
              "        vertical-align: top;\n",
              "    }\n",
              "\n",
              "    .dataframe thead th {\n",
              "        text-align: right;\n",
              "    }\n",
              "</style>\n",
              "<table border=\"1\" class=\"dataframe\">\n",
              "  <thead>\n",
              "    <tr style=\"text-align: right;\">\n",
              "      <th></th>\n",
              "      <th>id_serie</th>\n",
              "      <th>nome_serie</th>\n",
              "      <th>id_episodio</th>\n",
              "      <th>temporada</th>\n",
              "      <th>num_episodio</th>\n",
              "      <th>nome_episodio</th>\n",
              "      <th>ano</th>\n",
              "      <th>generos</th>\n",
              "      <th>duracao_minutos</th>\n",
              "      <th>avaliacao_media</th>\n",
              "      <th>num_votos</th>\n",
              "    </tr>\n",
              "  </thead>\n",
              "  <tbody>\n",
              "    <tr>\n",
              "      <th>6948</th>\n",
              "      <td>tt1520211</td>\n",
              "      <td>The Walking Dead</td>\n",
              "      <td>tt2948638</td>\n",
              "      <td>4.0</td>\n",
              "      <td>8.0</td>\n",
              "      <td>Too Far Gone</td>\n",
              "      <td>2013</td>\n",
              "      <td>Drama,Horror,Thriller</td>\n",
              "      <td>43.0</td>\n",
              "      <td>9.6</td>\n",
              "      <td>26436</td>\n",
              "    </tr>\n",
              "    <tr>\n",
              "      <th>6957</th>\n",
              "      <td>tt1520211</td>\n",
              "      <td>The Walking Dead</td>\n",
              "      <td>tt3297776</td>\n",
              "      <td>5.0</td>\n",
              "      <td>1.0</td>\n",
              "      <td>No Sanctuary</td>\n",
              "      <td>2014</td>\n",
              "      <td>Drama,Horror,Thriller</td>\n",
              "      <td>42.0</td>\n",
              "      <td>9.6</td>\n",
              "      <td>27128</td>\n",
              "    </tr>\n",
              "    <tr>\n",
              "      <th>6981</th>\n",
              "      <td>tt1520211</td>\n",
              "      <td>The Walking Dead</td>\n",
              "      <td>tt4575388</td>\n",
              "      <td>6.0</td>\n",
              "      <td>9.0</td>\n",
              "      <td>No Way Out</td>\n",
              "      <td>2016</td>\n",
              "      <td>Drama,Horror,Thriller</td>\n",
              "      <td>43.0</td>\n",
              "      <td>9.6</td>\n",
              "      <td>28572</td>\n",
              "    </tr>\n",
              "  </tbody>\n",
              "</table>\n",
              "</div>\n",
              "      <button class=\"colab-df-convert\" onclick=\"convertToInteractive('df-d194fc37-ee33-471c-92b0-70940ecbc33e')\"\n",
              "              title=\"Convert this dataframe to an interactive table.\"\n",
              "              style=\"display:none;\">\n",
              "        \n",
              "  <svg xmlns=\"http://www.w3.org/2000/svg\" height=\"24px\"viewBox=\"0 0 24 24\"\n",
              "       width=\"24px\">\n",
              "    <path d=\"M0 0h24v24H0V0z\" fill=\"none\"/>\n",
              "    <path d=\"M18.56 5.44l.94 2.06.94-2.06 2.06-.94-2.06-.94-.94-2.06-.94 2.06-2.06.94zm-11 1L8.5 8.5l.94-2.06 2.06-.94-2.06-.94L8.5 2.5l-.94 2.06-2.06.94zm10 10l.94 2.06.94-2.06 2.06-.94-2.06-.94-.94-2.06-.94 2.06-2.06.94z\"/><path d=\"M17.41 7.96l-1.37-1.37c-.4-.4-.92-.59-1.43-.59-.52 0-1.04.2-1.43.59L10.3 9.45l-7.72 7.72c-.78.78-.78 2.05 0 2.83L4 21.41c.39.39.9.59 1.41.59.51 0 1.02-.2 1.41-.59l7.78-7.78 2.81-2.81c.8-.78.8-2.07 0-2.86zM5.41 20L4 18.59l7.72-7.72 1.47 1.35L5.41 20z\"/>\n",
              "  </svg>\n",
              "      </button>\n",
              "      \n",
              "  <style>\n",
              "    .colab-df-container {\n",
              "      display:flex;\n",
              "      flex-wrap:wrap;\n",
              "      gap: 12px;\n",
              "    }\n",
              "\n",
              "    .colab-df-convert {\n",
              "      background-color: #E8F0FE;\n",
              "      border: none;\n",
              "      border-radius: 50%;\n",
              "      cursor: pointer;\n",
              "      display: none;\n",
              "      fill: #1967D2;\n",
              "      height: 32px;\n",
              "      padding: 0 0 0 0;\n",
              "      width: 32px;\n",
              "    }\n",
              "\n",
              "    .colab-df-convert:hover {\n",
              "      background-color: #E2EBFA;\n",
              "      box-shadow: 0px 1px 2px rgba(60, 64, 67, 0.3), 0px 1px 3px 1px rgba(60, 64, 67, 0.15);\n",
              "      fill: #174EA6;\n",
              "    }\n",
              "\n",
              "    [theme=dark] .colab-df-convert {\n",
              "      background-color: #3B4455;\n",
              "      fill: #D2E3FC;\n",
              "    }\n",
              "\n",
              "    [theme=dark] .colab-df-convert:hover {\n",
              "      background-color: #434B5C;\n",
              "      box-shadow: 0px 1px 3px 1px rgba(0, 0, 0, 0.15);\n",
              "      filter: drop-shadow(0px 1px 2px rgba(0, 0, 0, 0.3));\n",
              "      fill: #FFFFFF;\n",
              "    }\n",
              "  </style>\n",
              "\n",
              "      <script>\n",
              "        const buttonEl =\n",
              "          document.querySelector('#df-d194fc37-ee33-471c-92b0-70940ecbc33e button.colab-df-convert');\n",
              "        buttonEl.style.display =\n",
              "          google.colab.kernel.accessAllowed ? 'block' : 'none';\n",
              "\n",
              "        async function convertToInteractive(key) {\n",
              "          const element = document.querySelector('#df-d194fc37-ee33-471c-92b0-70940ecbc33e');\n",
              "          const dataTable =\n",
              "            await google.colab.kernel.invokeFunction('convertToInteractive',\n",
              "                                                     [key], {});\n",
              "          if (!dataTable) return;\n",
              "\n",
              "          const docLinkHtml = 'Like what you see? Visit the ' +\n",
              "            '<a target=\"_blank\" href=https://colab.research.google.com/notebooks/data_table.ipynb>data table notebook</a>'\n",
              "            + ' to learn more about interactive tables.';\n",
              "          element.innerHTML = '';\n",
              "          dataTable['output_type'] = 'display_data';\n",
              "          await google.colab.output.renderOutput(dataTable, element);\n",
              "          const docLink = document.createElement('div');\n",
              "          docLink.innerHTML = docLinkHtml;\n",
              "          element.appendChild(docLink);\n",
              "        }\n",
              "      </script>\n",
              "    </div>\n",
              "  </div>\n",
              "  "
            ]
          },
          "metadata": {},
          "execution_count": 15
        }
      ]
    },
    {
      "cell_type": "markdown",
      "source": [
        "### Qual o pior episódio da série de acordo com as avaliações do IMDB?"
      ],
      "metadata": {
        "id": "rNfN2H9BSmMs"
      }
    },
    {
      "cell_type": "code",
      "source": [
        "episodios.loc[episodios['avaliacao_media'] == episodios['avaliacao_media'].min()]\n",
        "\n",
        "#Acredito que não se possa tirar uma avaliação sobre este episódio pelo fato de ser recente e um \n",
        "# dos últimos da série, acredito ter poucos votos por ser recente e fim de série."
      ],
      "metadata": {
        "colab": {
          "base_uri": "https://localhost:8080/",
          "height": 142
        },
        "id": "MRvO7vq0Sm1E",
        "outputId": "7ea0356b-b8f4-483d-cc2b-3e02851ed43f"
      },
      "execution_count": 16,
      "outputs": [
        {
          "output_type": "execute_result",
          "data": {
            "text/plain": [
              "       id_serie        nome_serie id_episodio  temporada  num_episodio  \\\n",
              "7057  tt1520211  The Walking Dead  tt12772746       10.0          21.0   \n",
              "\n",
              "     nome_episodio   ano                generos  duracao_minutos  \\\n",
              "7057      Diverged  2021  Drama,Horror,Thriller             42.0   \n",
              "\n",
              "      avaliacao_media  num_votos  \n",
              "7057              4.0       9124  "
            ],
            "text/html": [
              "\n",
              "  <div id=\"df-ab847c0a-56d4-4b6c-8966-71c03fd523ab\">\n",
              "    <div class=\"colab-df-container\">\n",
              "      <div>\n",
              "<style scoped>\n",
              "    .dataframe tbody tr th:only-of-type {\n",
              "        vertical-align: middle;\n",
              "    }\n",
              "\n",
              "    .dataframe tbody tr th {\n",
              "        vertical-align: top;\n",
              "    }\n",
              "\n",
              "    .dataframe thead th {\n",
              "        text-align: right;\n",
              "    }\n",
              "</style>\n",
              "<table border=\"1\" class=\"dataframe\">\n",
              "  <thead>\n",
              "    <tr style=\"text-align: right;\">\n",
              "      <th></th>\n",
              "      <th>id_serie</th>\n",
              "      <th>nome_serie</th>\n",
              "      <th>id_episodio</th>\n",
              "      <th>temporada</th>\n",
              "      <th>num_episodio</th>\n",
              "      <th>nome_episodio</th>\n",
              "      <th>ano</th>\n",
              "      <th>generos</th>\n",
              "      <th>duracao_minutos</th>\n",
              "      <th>avaliacao_media</th>\n",
              "      <th>num_votos</th>\n",
              "    </tr>\n",
              "  </thead>\n",
              "  <tbody>\n",
              "    <tr>\n",
              "      <th>7057</th>\n",
              "      <td>tt1520211</td>\n",
              "      <td>The Walking Dead</td>\n",
              "      <td>tt12772746</td>\n",
              "      <td>10.0</td>\n",
              "      <td>21.0</td>\n",
              "      <td>Diverged</td>\n",
              "      <td>2021</td>\n",
              "      <td>Drama,Horror,Thriller</td>\n",
              "      <td>42.0</td>\n",
              "      <td>4.0</td>\n",
              "      <td>9124</td>\n",
              "    </tr>\n",
              "  </tbody>\n",
              "</table>\n",
              "</div>\n",
              "      <button class=\"colab-df-convert\" onclick=\"convertToInteractive('df-ab847c0a-56d4-4b6c-8966-71c03fd523ab')\"\n",
              "              title=\"Convert this dataframe to an interactive table.\"\n",
              "              style=\"display:none;\">\n",
              "        \n",
              "  <svg xmlns=\"http://www.w3.org/2000/svg\" height=\"24px\"viewBox=\"0 0 24 24\"\n",
              "       width=\"24px\">\n",
              "    <path d=\"M0 0h24v24H0V0z\" fill=\"none\"/>\n",
              "    <path d=\"M18.56 5.44l.94 2.06.94-2.06 2.06-.94-2.06-.94-.94-2.06-.94 2.06-2.06.94zm-11 1L8.5 8.5l.94-2.06 2.06-.94-2.06-.94L8.5 2.5l-.94 2.06-2.06.94zm10 10l.94 2.06.94-2.06 2.06-.94-2.06-.94-.94-2.06-.94 2.06-2.06.94z\"/><path d=\"M17.41 7.96l-1.37-1.37c-.4-.4-.92-.59-1.43-.59-.52 0-1.04.2-1.43.59L10.3 9.45l-7.72 7.72c-.78.78-.78 2.05 0 2.83L4 21.41c.39.39.9.59 1.41.59.51 0 1.02-.2 1.41-.59l7.78-7.78 2.81-2.81c.8-.78.8-2.07 0-2.86zM5.41 20L4 18.59l7.72-7.72 1.47 1.35L5.41 20z\"/>\n",
              "  </svg>\n",
              "      </button>\n",
              "      \n",
              "  <style>\n",
              "    .colab-df-container {\n",
              "      display:flex;\n",
              "      flex-wrap:wrap;\n",
              "      gap: 12px;\n",
              "    }\n",
              "\n",
              "    .colab-df-convert {\n",
              "      background-color: #E8F0FE;\n",
              "      border: none;\n",
              "      border-radius: 50%;\n",
              "      cursor: pointer;\n",
              "      display: none;\n",
              "      fill: #1967D2;\n",
              "      height: 32px;\n",
              "      padding: 0 0 0 0;\n",
              "      width: 32px;\n",
              "    }\n",
              "\n",
              "    .colab-df-convert:hover {\n",
              "      background-color: #E2EBFA;\n",
              "      box-shadow: 0px 1px 2px rgba(60, 64, 67, 0.3), 0px 1px 3px 1px rgba(60, 64, 67, 0.15);\n",
              "      fill: #174EA6;\n",
              "    }\n",
              "\n",
              "    [theme=dark] .colab-df-convert {\n",
              "      background-color: #3B4455;\n",
              "      fill: #D2E3FC;\n",
              "    }\n",
              "\n",
              "    [theme=dark] .colab-df-convert:hover {\n",
              "      background-color: #434B5C;\n",
              "      box-shadow: 0px 1px 3px 1px rgba(0, 0, 0, 0.15);\n",
              "      filter: drop-shadow(0px 1px 2px rgba(0, 0, 0, 0.3));\n",
              "      fill: #FFFFFF;\n",
              "    }\n",
              "  </style>\n",
              "\n",
              "      <script>\n",
              "        const buttonEl =\n",
              "          document.querySelector('#df-ab847c0a-56d4-4b6c-8966-71c03fd523ab button.colab-df-convert');\n",
              "        buttonEl.style.display =\n",
              "          google.colab.kernel.accessAllowed ? 'block' : 'none';\n",
              "\n",
              "        async function convertToInteractive(key) {\n",
              "          const element = document.querySelector('#df-ab847c0a-56d4-4b6c-8966-71c03fd523ab');\n",
              "          const dataTable =\n",
              "            await google.colab.kernel.invokeFunction('convertToInteractive',\n",
              "                                                     [key], {});\n",
              "          if (!dataTable) return;\n",
              "\n",
              "          const docLinkHtml = 'Like what you see? Visit the ' +\n",
              "            '<a target=\"_blank\" href=https://colab.research.google.com/notebooks/data_table.ipynb>data table notebook</a>'\n",
              "            + ' to learn more about interactive tables.';\n",
              "          element.innerHTML = '';\n",
              "          dataTable['output_type'] = 'display_data';\n",
              "          await google.colab.output.renderOutput(dataTable, element);\n",
              "          const docLink = document.createElement('div');\n",
              "          docLink.innerHTML = docLinkHtml;\n",
              "          element.appendChild(docLink);\n",
              "        }\n",
              "      </script>\n",
              "    </div>\n",
              "  </div>\n",
              "  "
            ]
          },
          "metadata": {},
          "execution_count": 16
        }
      ]
    },
    {
      "cell_type": "markdown",
      "source": [
        "### Qual a melhor temporada da série de acordo com as avaliações do IMDB?"
      ],
      "metadata": {
        "id": "2NC05t1bTBeO"
      }
    },
    {
      "cell_type": "code",
      "source": [
        "popular.loc[popular['avaliacao_media'] == popular['avaliacao_media'].max()]"
      ],
      "metadata": {
        "colab": {
          "base_uri": "https://localhost:8080/",
          "height": 81
        },
        "id": "21fWhka3TCL6",
        "outputId": "b7f088aa-1ded-431c-a3da-691ba524c842"
      },
      "execution_count": 17,
      "outputs": [
        {
          "output_type": "execute_result",
          "data": {
            "text/plain": [
              "   temporada  num_episodio    ano  duracao_minutos  avaliacao_media  num_votos\n",
              "9       10.0         253.0  44438           1007.0            162.0     149143"
            ],
            "text/html": [
              "\n",
              "  <div id=\"df-31f28acc-2b52-4d5b-9ae0-7399a6d4d30b\">\n",
              "    <div class=\"colab-df-container\">\n",
              "      <div>\n",
              "<style scoped>\n",
              "    .dataframe tbody tr th:only-of-type {\n",
              "        vertical-align: middle;\n",
              "    }\n",
              "\n",
              "    .dataframe tbody tr th {\n",
              "        vertical-align: top;\n",
              "    }\n",
              "\n",
              "    .dataframe thead th {\n",
              "        text-align: right;\n",
              "    }\n",
              "</style>\n",
              "<table border=\"1\" class=\"dataframe\">\n",
              "  <thead>\n",
              "    <tr style=\"text-align: right;\">\n",
              "      <th></th>\n",
              "      <th>temporada</th>\n",
              "      <th>num_episodio</th>\n",
              "      <th>ano</th>\n",
              "      <th>duracao_minutos</th>\n",
              "      <th>avaliacao_media</th>\n",
              "      <th>num_votos</th>\n",
              "    </tr>\n",
              "  </thead>\n",
              "  <tbody>\n",
              "    <tr>\n",
              "      <th>9</th>\n",
              "      <td>10.0</td>\n",
              "      <td>253.0</td>\n",
              "      <td>44438</td>\n",
              "      <td>1007.0</td>\n",
              "      <td>162.0</td>\n",
              "      <td>149143</td>\n",
              "    </tr>\n",
              "  </tbody>\n",
              "</table>\n",
              "</div>\n",
              "      <button class=\"colab-df-convert\" onclick=\"convertToInteractive('df-31f28acc-2b52-4d5b-9ae0-7399a6d4d30b')\"\n",
              "              title=\"Convert this dataframe to an interactive table.\"\n",
              "              style=\"display:none;\">\n",
              "        \n",
              "  <svg xmlns=\"http://www.w3.org/2000/svg\" height=\"24px\"viewBox=\"0 0 24 24\"\n",
              "       width=\"24px\">\n",
              "    <path d=\"M0 0h24v24H0V0z\" fill=\"none\"/>\n",
              "    <path d=\"M18.56 5.44l.94 2.06.94-2.06 2.06-.94-2.06-.94-.94-2.06-.94 2.06-2.06.94zm-11 1L8.5 8.5l.94-2.06 2.06-.94-2.06-.94L8.5 2.5l-.94 2.06-2.06.94zm10 10l.94 2.06.94-2.06 2.06-.94-2.06-.94-.94-2.06-.94 2.06-2.06.94z\"/><path d=\"M17.41 7.96l-1.37-1.37c-.4-.4-.92-.59-1.43-.59-.52 0-1.04.2-1.43.59L10.3 9.45l-7.72 7.72c-.78.78-.78 2.05 0 2.83L4 21.41c.39.39.9.59 1.41.59.51 0 1.02-.2 1.41-.59l7.78-7.78 2.81-2.81c.8-.78.8-2.07 0-2.86zM5.41 20L4 18.59l7.72-7.72 1.47 1.35L5.41 20z\"/>\n",
              "  </svg>\n",
              "      </button>\n",
              "      \n",
              "  <style>\n",
              "    .colab-df-container {\n",
              "      display:flex;\n",
              "      flex-wrap:wrap;\n",
              "      gap: 12px;\n",
              "    }\n",
              "\n",
              "    .colab-df-convert {\n",
              "      background-color: #E8F0FE;\n",
              "      border: none;\n",
              "      border-radius: 50%;\n",
              "      cursor: pointer;\n",
              "      display: none;\n",
              "      fill: #1967D2;\n",
              "      height: 32px;\n",
              "      padding: 0 0 0 0;\n",
              "      width: 32px;\n",
              "    }\n",
              "\n",
              "    .colab-df-convert:hover {\n",
              "      background-color: #E2EBFA;\n",
              "      box-shadow: 0px 1px 2px rgba(60, 64, 67, 0.3), 0px 1px 3px 1px rgba(60, 64, 67, 0.15);\n",
              "      fill: #174EA6;\n",
              "    }\n",
              "\n",
              "    [theme=dark] .colab-df-convert {\n",
              "      background-color: #3B4455;\n",
              "      fill: #D2E3FC;\n",
              "    }\n",
              "\n",
              "    [theme=dark] .colab-df-convert:hover {\n",
              "      background-color: #434B5C;\n",
              "      box-shadow: 0px 1px 3px 1px rgba(0, 0, 0, 0.15);\n",
              "      filter: drop-shadow(0px 1px 2px rgba(0, 0, 0, 0.3));\n",
              "      fill: #FFFFFF;\n",
              "    }\n",
              "  </style>\n",
              "\n",
              "      <script>\n",
              "        const buttonEl =\n",
              "          document.querySelector('#df-31f28acc-2b52-4d5b-9ae0-7399a6d4d30b button.colab-df-convert');\n",
              "        buttonEl.style.display =\n",
              "          google.colab.kernel.accessAllowed ? 'block' : 'none';\n",
              "\n",
              "        async function convertToInteractive(key) {\n",
              "          const element = document.querySelector('#df-31f28acc-2b52-4d5b-9ae0-7399a6d4d30b');\n",
              "          const dataTable =\n",
              "            await google.colab.kernel.invokeFunction('convertToInteractive',\n",
              "                                                     [key], {});\n",
              "          if (!dataTable) return;\n",
              "\n",
              "          const docLinkHtml = 'Like what you see? Visit the ' +\n",
              "            '<a target=\"_blank\" href=https://colab.research.google.com/notebooks/data_table.ipynb>data table notebook</a>'\n",
              "            + ' to learn more about interactive tables.';\n",
              "          element.innerHTML = '';\n",
              "          dataTable['output_type'] = 'display_data';\n",
              "          await google.colab.output.renderOutput(dataTable, element);\n",
              "          const docLink = document.createElement('div');\n",
              "          docLink.innerHTML = docLinkHtml;\n",
              "          element.appendChild(docLink);\n",
              "        }\n",
              "      </script>\n",
              "    </div>\n",
              "  </div>\n",
              "  "
            ]
          },
          "metadata": {},
          "execution_count": 17
        }
      ]
    },
    {
      "cell_type": "markdown",
      "source": [
        "## Relação entre variáveis\n",
        "\n",
        "Analise a relação entre as variáveis referentes a cada episódio. Explore visualmente a relação entre elas e calcula estatísticas de correlação."
      ],
      "metadata": {
        "id": "Ry8vYi-gWF7a"
      }
    },
    {
      "cell_type": "markdown",
      "source": [
        "### Existe alguma relação entre a quantidade de votos recebida e a avaliação média dos episódios?"
      ],
      "metadata": {
        "id": "8ropFXV0WLgp"
      }
    },
    {
      "cell_type": "code",
      "source": [
        "ax = episodios.plot.hexbin(x='avaliacao_media', y='num_votos', gridsize=20, sharex=False, figsize=(8, 7))\n",
        "\n",
        "#Usando o gráfico de hexbin para visualização dos votos em relação a media.\n",
        "\n",
        "#Nota se que os dados estão concentrados na média 6-8 com menos de 20.000 votos\n",
        "#com avaliação média de 10mil.\n",
        "#Portanto, confirma a correlação, a avaliação média é entre 10-15 mil votos e média de 10 mil (ponto mais escuro no gráfico)."
      ],
      "metadata": {
        "colab": {
          "base_uri": "https://localhost:8080/",
          "height": 447
        },
        "id": "6nOLq-YeWGzG",
        "outputId": "0d51134a-98c0-4824-83d0-5f06dbfd7e1d"
      },
      "execution_count": 31,
      "outputs": [
        {
          "output_type": "display_data",
          "data": {
            "text/plain": [
              "<Figure size 576x504 with 2 Axes>"
            ],
            "image/png": "[encoded data removed]"
          },
          "metadata": {
            "needs_background": "light"
          }
        }
      ]
    },
    {
      "cell_type": "markdown",
      "source": [
        "### Existe alguma relação entre a quantidade de votos recebida e o número do episódio?"
      ],
      "metadata": {
        "id": "Jfa_J-qTa00K"
      }
    },
    {
      "cell_type": "code",
      "source": [
        "ax = episodios.plot.hexbin(x='num_episodio', y='num_votos', gridsize=30, sharex=False, figsize=(8, 7))\n",
        "\n",
        "# Ao meu ver, há uma considerável relação entre votos recebidos e número de episódios,\n",
        "# pelo fato de grande maioria estar entre 5 a 15 mil votos, com pequenas exceções.\n",
        "# Acredito que pelo sucesso da série, esta muito bem dividida e correlativas as \n",
        "# opiniões dos telespectadores."
      ],
      "metadata": {
        "colab": {
          "base_uri": "https://localhost:8080/",
          "height": 447
        },
        "id": "lFCqmvqAa1VY",
        "outputId": "65196638-530b-49f0-bf4c-02b1f2a42280"
      },
      "execution_count": 32,
      "outputs": [
        {
          "output_type": "display_data",
          "data": {
            "text/plain": [
              "<Figure size 576x504 with 2 Axes>"
            ],
            "image/png": "[encoded data removed]"
          },
          "metadata": {
            "needs_background": "light"
          }
        }
      ]
    },
    {
      "cell_type": "markdown",
      "source": [
        "## Padrões temporais\n",
        "\n",
        "Explore as avaliações de temporadas e episódios ao longo do tempo."
      ],
      "metadata": {
        "id": "3x2Zl9e0cbsZ"
      }
    },
    {
      "cell_type": "markdown",
      "source": [
        "### As primeiras temporadas são melhor avaliadas do que as últimas?"
      ],
      "metadata": {
        "id": "ijYqE-jecf9y"
      }
    },
    {
      "cell_type": "code",
      "source": [
        "popular[['temporada','avaliacao_media']].sort_values('avaliacao_media', ascending = False)\n",
        "\n",
        "# Com exceção da temporada 1 com média 50 e as demais em torno de 120,\n",
        "# ao contrário da pergunta, a primeira temporada é menos avaliada do que as demais."
      ],
      "metadata": {
        "colab": {
          "base_uri": "https://localhost:8080/",
          "height": 394
        },
        "id": "IiXRdG7EchIK",
        "outputId": "888453f1-1dc9-42c9-c4e0-280f20495e2b"
      },
      "execution_count": 34,
      "outputs": [
        {
          "output_type": "execute_result",
          "data": {
            "text/plain": [
              "    temporada  avaliacao_media\n",
              "0         1.0             51.2\n",
              "1         2.0            108.5\n",
              "7         8.0            112.2\n",
              "6         7.0            119.5\n",
              "10       11.0            126.6\n",
              "8         9.0            127.4\n",
              "3         4.0            132.0\n",
              "5         6.0            132.3\n",
              "2         3.0            133.9\n",
              "4         5.0            133.9\n",
              "9        10.0            162.0"
            ],
            "text/html": [
              "\n",
              "  <div id=\"df-8edcc96e-d4bb-46f4-b765-aeabd1217bae\">\n",
              "    <div class=\"colab-df-container\">\n",
              "      <div>\n",
              "<style scoped>\n",
              "    .dataframe tbody tr th:only-of-type {\n",
              "        vertical-align: middle;\n",
              "    }\n",
              "\n",
              "    .dataframe tbody tr th {\n",
              "        vertical-align: top;\n",
              "    }\n",
              "\n",
              "    .dataframe thead th {\n",
              "        text-align: right;\n",
              "    }\n",
              "</style>\n",
              "<table border=\"1\" class=\"dataframe\">\n",
              "  <thead>\n",
              "    <tr style=\"text-align: right;\">\n",
              "      <th></th>\n",
              "      <th>temporada</th>\n",
              "      <th>avaliacao_media</th>\n",
              "    </tr>\n",
              "  </thead>\n",
              "  <tbody>\n",
              "    <tr>\n",
              "      <th>0</th>\n",
              "      <td>1.0</td>\n",
              "      <td>51.2</td>\n",
              "    </tr>\n",
              "    <tr>\n",
              "      <th>1</th>\n",
              "      <td>2.0</td>\n",
              "      <td>108.5</td>\n",
              "    </tr>\n",
              "    <tr>\n",
              "      <th>7</th>\n",
              "      <td>8.0</td>\n",
              "      <td>112.2</td>\n",
              "    </tr>\n",
              "    <tr>\n",
              "      <th>6</th>\n",
              "      <td>7.0</td>\n",
              "      <td>119.5</td>\n",
              "    </tr>\n",
              "    <tr>\n",
              "      <th>10</th>\n",
              "      <td>11.0</td>\n",
              "      <td>126.6</td>\n",
              "    </tr>\n",
              "    <tr>\n",
              "      <th>8</th>\n",
              "      <td>9.0</td>\n",
              "      <td>127.4</td>\n",
              "    </tr>\n",
              "    <tr>\n",
              "      <th>3</th>\n",
              "      <td>4.0</td>\n",
              "      <td>132.0</td>\n",
              "    </tr>\n",
              "    <tr>\n",
              "      <th>5</th>\n",
              "      <td>6.0</td>\n",
              "      <td>132.3</td>\n",
              "    </tr>\n",
              "    <tr>\n",
              "      <th>2</th>\n",
              "      <td>3.0</td>\n",
              "      <td>133.9</td>\n",
              "    </tr>\n",
              "    <tr>\n",
              "      <th>4</th>\n",
              "      <td>5.0</td>\n",
              "      <td>133.9</td>\n",
              "    </tr>\n",
              "    <tr>\n",
              "      <th>9</th>\n",
              "      <td>10.0</td>\n",
              "      <td>162.0</td>\n",
              "    </tr>\n",
              "  </tbody>\n",
              "</table>\n",
              "</div>\n",
              "      <button class=\"colab-df-convert\" onclick=\"convertToInteractive('df-8edcc96e-d4bb-46f4-b765-aeabd1217bae')\"\n",
              "              title=\"Convert this dataframe to an interactive table.\"\n",
              "              style=\"display:none;\">\n",
              "        \n",
              "  <svg xmlns=\"http://www.w3.org/2000/svg\" height=\"24px\"viewBox=\"0 0 24 24\"\n",
              "       width=\"24px\">\n",
              "    <path d=\"M0 0h24v24H0V0z\" fill=\"none\"/>\n",
              "    <path d=\"M18.56 5.44l.94 2.06.94-2.06 2.06-.94-2.06-.94-.94-2.06-.94 2.06-2.06.94zm-11 1L8.5 8.5l.94-2.06 2.06-.94-2.06-.94L8.5 2.5l-.94 2.06-2.06.94zm10 10l.94 2.06.94-2.06 2.06-.94-2.06-.94-.94-2.06-.94 2.06-2.06.94z\"/><path d=\"M17.41 7.96l-1.37-1.37c-.4-.4-.92-.59-1.43-.59-.52 0-1.04.2-1.43.59L10.3 9.45l-7.72 7.72c-.78.78-.78 2.05 0 2.83L4 21.41c.39.39.9.59 1.41.59.51 0 1.02-.2 1.41-.59l7.78-7.78 2.81-2.81c.8-.78.8-2.07 0-2.86zM5.41 20L4 18.59l7.72-7.72 1.47 1.35L5.41 20z\"/>\n",
              "  </svg>\n",
              "      </button>\n",
              "      \n",
              "  <style>\n",
              "    .colab-df-container {\n",
              "      display:flex;\n",
              "      flex-wrap:wrap;\n",
              "      gap: 12px;\n",
              "    }\n",
              "\n",
              "    .colab-df-convert {\n",
              "      background-color: #E8F0FE;\n",
              "      border: none;\n",
              "      border-radius: 50%;\n",
              "      cursor: pointer;\n",
              "      display: none;\n",
              "      fill: #1967D2;\n",
              "      height: 32px;\n",
              "      padding: 0 0 0 0;\n",
              "      width: 32px;\n",
              "    }\n",
              "\n",
              "    .colab-df-convert:hover {\n",
              "      background-color: #E2EBFA;\n",
              "      box-shadow: 0px 1px 2px rgba(60, 64, 67, 0.3), 0px 1px 3px 1px rgba(60, 64, 67, 0.15);\n",
              "      fill: #174EA6;\n",
              "    }\n",
              "\n",
              "    [theme=dark] .colab-df-convert {\n",
              "      background-color: #3B4455;\n",
              "      fill: #D2E3FC;\n",
              "    }\n",
              "\n",
              "    [theme=dark] .colab-df-convert:hover {\n",
              "      background-color: #434B5C;\n",
              "      box-shadow: 0px 1px 3px 1px rgba(0, 0, 0, 0.15);\n",
              "      filter: drop-shadow(0px 1px 2px rgba(0, 0, 0, 0.3));\n",
              "      fill: #FFFFFF;\n",
              "    }\n",
              "  </style>\n",
              "\n",
              "      <script>\n",
              "        const buttonEl =\n",
              "          document.querySelector('#df-8edcc96e-d4bb-46f4-b765-aeabd1217bae button.colab-df-convert');\n",
              "        buttonEl.style.display =\n",
              "          google.colab.kernel.accessAllowed ? 'block' : 'none';\n",
              "\n",
              "        async function convertToInteractive(key) {\n",
              "          const element = document.querySelector('#df-8edcc96e-d4bb-46f4-b765-aeabd1217bae');\n",
              "          const dataTable =\n",
              "            await google.colab.kernel.invokeFunction('convertToInteractive',\n",
              "                                                     [key], {});\n",
              "          if (!dataTable) return;\n",
              "\n",
              "          const docLinkHtml = 'Like what you see? Visit the ' +\n",
              "            '<a target=\"_blank\" href=https://colab.research.google.com/notebooks/data_table.ipynb>data table notebook</a>'\n",
              "            + ' to learn more about interactive tables.';\n",
              "          element.innerHTML = '';\n",
              "          dataTable['output_type'] = 'display_data';\n",
              "          await google.colab.output.renderOutput(dataTable, element);\n",
              "          const docLink = document.createElement('div');\n",
              "          docLink.innerHTML = docLinkHtml;\n",
              "          element.appendChild(docLink);\n",
              "        }\n",
              "      </script>\n",
              "    </div>\n",
              "  </div>\n",
              "  "
            ]
          },
          "metadata": {},
          "execution_count": 34
        }
      ]
    },
    {
      "cell_type": "markdown",
      "source": [
        "### Os episódios no fim das temporadas são melhor avaliados do que os do início?"
      ],
      "metadata": {
        "id": "8PUWuvtzengo"
      }
    },
    {
      "cell_type": "code",
      "source": [
        "#visualização de gráfico de numero de episódio eixo(x) em relação a avaliacao media(y).\n",
        "\n",
        "g = sns.FacetGrid(episodios, col=\"temporada\", col_wrap=4)\n",
        "ax_temp = g.map_dataframe(sns.scatterplot, x=\"num_episodio\", y=\"avaliacao_media\", alpha=1, linewidth=0,)\n",
        "\n",
        "#Na temporada 1 o último episódio é menos bem avaliado do que o primeiro.\n",
        "#Na temporada 2 o último episódio é mais bem avaliado do que o primeiro.\n",
        "#Na temporada 3 o último episódio e os primeiros são praticamentes avaliados da mesma forma.\n",
        "#Na temporada 4 o último episódio é mais bem avaliado do que o primeiro, porém no meio há grande oscilação.\n",
        "#Na temporada 5 começa em alta, vai abaixando, e logo sobe novamente a avaliação média.\n",
        "#Já na 6, começa alta, abaixa, depois sobe e ao final baixa drasticamente.\n",
        "# Na 7 começa alta e baixa drasticamente (Personagens principais passam maus bocados) e depois se estabiliza. (Personagens voltam a normalidade)\n",
        "# Na 8 não há discrepância nas avaliações, seguem a mesma média.\n",
        "# Na 9 começa havendo uma alta na média, há sobe e desce, mas termina praticamente na média inicial.\n",
        "# Já na 10 é a que chama mais atenção pelo fato de vir numa pequena crescida e drasticamente cai no último episódio,\n",
        "# e já no seguinte e ultimo episódio vai ao topo. (Algo de muito bom aconteceu)\n",
        "#Na 11 começa havendo uma alta na média, há sobe e desce, mas termina praticamente na média inicial."
      ],
      "metadata": {
        "colab": {
          "base_uri": "https://localhost:8080/",
          "height": 657
        },
        "id": "UHx8wSvdeoWw",
        "outputId": "6573229c-076f-4375-fcd6-0cad36ecfa5d"
      },
      "execution_count": 35,
      "outputs": [
        {
          "output_type": "display_data",
          "data": {
            "text/plain": [
              "<Figure size 864x648 with 11 Axes>"
            ],
            "image/png": "[encoded data removed]"
          },
          "metadata": {
            "needs_background": "light"
          }
        }
      ]
    },
    {
      "cell_type": "markdown",
      "source": [
        "### Qual é a temporada mais regular? (com menor variação de avaliações)"
      ],
      "metadata": {
        "id": "qegqNx0fjSEr"
      }
    },
    {
      "cell_type": "code",
      "source": [
        "#Acredito que as temporadas 3 é a mais regular."
      ],
      "metadata": {
        "id": "MZLBjkUGj_BP"
      },
      "execution_count": null,
      "outputs": []
    },
    {
      "cell_type": "markdown",
      "source": [
        "### Qual é a temporada mais instável? (com maior variação de avaliações)"
      ],
      "metadata": {
        "id": "gI45gWH4jUTu"
      }
    },
    {
      "cell_type": "code",
      "source": [
        "#Acredito que a temporada 10 é a menos regular pela oscilação da avaliação media a cada episodio."
      ],
      "metadata": {
        "id": "FwP9vhHOkC8y"
      },
      "execution_count": null,
      "outputs": []
    },
    {
      "cell_type": "markdown",
      "source": [
        "## Valores incomuns\n",
        "\n",
        "Existem outliers nos dados?"
      ],
      "metadata": {
        "id": "ptmXD8mGlBbR"
      }
    },
    {
      "cell_type": "code",
      "source": [
        "# Sim, em destaque, no penúltimo episódio da temporada 10 há uma drática queda na avaliação média,\n",
        "# e logo no episódio seguinte há uma grande alta."
      ],
      "metadata": {
        "id": "-zsRtS_BlCDQ"
      },
      "execution_count": null,
      "outputs": []
    },
    {
      "cell_type": "markdown",
      "source": [
        "### Existem episódios outliers em termos de popularidade?"
      ],
      "metadata": {
        "id": "tfkomDT8lgXX"
      }
    },
    {
      "cell_type": "code",
      "source": [
        "g = sns.FacetGrid(episodios, col=\"temporada\", col_wrap=4)\n",
        "ax = g.map_dataframe(sns.scatterplot, x=\"num_votos\", y=\"num_episodio\", alpha=1, linewidth=0,)\n",
        "\n",
        "# Sim, em diversas temporadas como: 1, 4, 5, 6, 7, acredito que 9 também."
      ],
      "metadata": {
        "colab": {
          "base_uri": "https://localhost:8080/",
          "height": 657
        },
        "id": "2cXr_sXWljHb",
        "outputId": "2a69a62c-60a6-4203-e930-ea73ad01d5ae"
      },
      "execution_count": 36,
      "outputs": [
        {
          "output_type": "display_data",
          "data": {
            "text/plain": [
              "<Figure size 864x648 with 11 Axes>"
            ],
            "image/png": "[encoded data removed]"
          },
          "metadata": {
            "needs_background": "light"
          }
        }
      ]
    },
    {
      "cell_type": "markdown",
      "source": [
        "### Existem episódios outliers em termos de avaliação recebida?\n"
      ],
      "metadata": {
        "id": "vX5u9zyLmCsM"
      }
    },
    {
      "cell_type": "code",
      "source": [
        "g = sns.FacetGrid(episodios, col=\"temporada\", col_wrap=4)\n",
        "ax_temp = g.map_dataframe(sns.scatterplot, x=\"avaliacao_media\", y=\"num_episodio\", alpha=1, linewidth=0,)\n"
      ],
      "metadata": {
        "colab": {
          "base_uri": "https://localhost:8080/",
          "height": 657
        },
        "id": "768PSVWymDUi",
        "outputId": "30cabbfe-2555-42b3-dc55-4db00a966178"
      },
      "execution_count": 38,
      "outputs": [
        {
          "output_type": "display_data",
          "data": {
            "text/plain": [
              "<Figure size 864x648 with 11 Axes>"
            ],
            "image/png": "[encoded data removed]"
          },
          "metadata": {
            "needs_background": "light"
          }
        }
      ]
    },
    {
      "cell_type": "code",
      "source": [
        "# Com relação a avaliação recebida, percebe-se no gráfico que há outliers em diversas temporadas, exceto 2, 3, 8, 11."
      ],
      "metadata": {
        "id": "0SqIbhqOmd54"
      },
      "execution_count": null,
      "outputs": []
    }
  ]
}